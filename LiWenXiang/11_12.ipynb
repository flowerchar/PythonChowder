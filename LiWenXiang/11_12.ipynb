{
 "cells": [
  {
   "cell_type": "markdown",
   "id": "0ae3c2c3",
   "metadata": {},
   "source": [
    "## IBM计算器"
   ]
  },
  {
   "cell_type": "code",
   "execution_count": null,
   "id": "92e9b2d8",
   "metadata": {},
   "outputs": [],
   "source": [
    "weight = float(input(\"体重为（kg）:\"))\n",
    "height = float(input(\"身高为（m）:\"))\n",
    "BMI = weight/pow(height, 2)\n",
    "if BMI < 18.5:\n",
    "    print(\"偏瘦\")\n",
    "elif 18.5<=BMI<=24:\n",
    "    print(\"正常\")\n",
    "elif 24<=BMI<=28:\n",
    "    print(\"偏胖\")\n",
    "elif BMI>=28:\n",
    "    print(\"肥胖\")\n",
    "else:\n",
    "    print(\"输入值有问题\")"
   ]
  },
  {
   "cell_type": "markdown",
   "id": "e9a1ba94",
   "metadata": {},
   "source": [
    "## 矩阵打印"
   ]
  },
  {
   "cell_type": "code",
   "execution_count": 9,
   "id": "f211040b",
   "metadata": {},
   "outputs": [
    {
     "name": "stdout",
     "output_type": "stream",
     "text": [
      "1\t2\t3\t4\t5\t\n",
      "2\t4\t6\t8\t10\t\n",
      "3\t6\t9\t12\t15\t\n",
      "4\t8\t12\t16\t20\t\n",
      "5\t10\t15\t20\t25\t\n",
      "6\t12\t18\t24\t30\t\n"
     ]
    }
   ],
   "source": [
    "row = 1\n",
    "while row<=6:\n",
    "    col = 1\n",
    "    while col<=5:\n",
    "        print(row*col, end=\"\\t\")\n",
    "        col = col + 1\n",
    "    row = row + 1\n",
    "    print()"
   ]
  },
  {
   "cell_type": "markdown",
   "id": "a8f6eba8",
   "metadata": {},
   "source": [
    "## 打印50以内的偶数"
   ]
  },
  {
   "cell_type": "code",
   "execution_count": 5,
   "id": "88973a47",
   "metadata": {},
   "outputs": [
    {
     "ename": "NameError",
     "evalue": "name 'm' is not defined",
     "output_type": "error",
     "traceback": [
      "\u001b[1;31m---------------------------------------------------------------------------\u001b[0m",
      "\u001b[1;31mNameError\u001b[0m                                 Traceback (most recent call last)",
      "\u001b[1;32m~\\AppData\\Local\\Temp/ipykernel_9048/3172681886.py\u001b[0m in \u001b[0;36m<module>\u001b[1;34m\u001b[0m\n\u001b[1;32m----> 1\u001b[1;33m \u001b[0mm\u001b[0m\u001b[1;33m<=\u001b[0m\u001b[1;36m100\u001b[0m\u001b[1;33m\u001b[0m\u001b[1;33m\u001b[0m\u001b[0m\n\u001b[0m",
      "\u001b[1;31mNameError\u001b[0m: name 'm' is not defined"
     ]
    }
   ],
   "source": [
    "m<=100"
   ]
  },
  {
   "cell_type": "code",
   "execution_count": 8,
   "id": "d7c6b7c7",
   "metadata": {
    "scrolled": true
   },
   "outputs": [
    {
     "name": "stdout",
     "output_type": "stream",
     "text": [
      "2\n",
      "4\n",
      "6\n",
      "8\n",
      "10\n",
      "12\n",
      "14\n",
      "16\n",
      "18\n",
      "20\n",
      "22\n",
      "24\n",
      "26\n",
      "28\n",
      "30\n",
      "32\n",
      "34\n",
      "36\n",
      "38\n",
      "40\n",
      "42\n",
      "44\n",
      "46\n",
      "48\n",
      "50\n"
     ]
    }
   ],
   "source": [
    "i = 2\n",
    "while i<=50:\n",
    "    if i%2==0:\n",
    "        print(i)\n",
    "    i = i+1\n"
   ]
  },
  {
   "cell_type": "markdown",
   "id": "6f80b541",
   "metadata": {},
   "source": [
    "## <font color='red'>猜数字游戏<font>"
   ]
  },
  {
   "cell_type": "code",
   "execution_count": 11,
   "id": "b023fe8c",
   "metadata": {},
   "outputs": [
    {
     "name": "stdout",
     "output_type": "stream",
     "text": [
      "请输入一个数字：112\n",
      "猜大了，继续！\n"
     ]
    },
    {
     "ename": "KeyboardInterrupt",
     "evalue": "Interrupted by user",
     "output_type": "error",
     "traceback": [
      "\u001b[1;31m---------------------------------------------------------------------------\u001b[0m",
      "\u001b[1;31mKeyboardInterrupt\u001b[0m                         Traceback (most recent call last)",
      "\u001b[1;32m~\\AppData\\Local\\Temp/ipykernel_9048/1711655789.py\u001b[0m in \u001b[0;36m<module>\u001b[1;34m\u001b[0m\n\u001b[0;32m      2\u001b[0m \u001b[0mguessNum\u001b[0m \u001b[1;33m=\u001b[0m \u001b[0mrandint\u001b[0m\u001b[1;33m(\u001b[0m\u001b[1;36m1\u001b[0m\u001b[1;33m,\u001b[0m\u001b[1;36m100\u001b[0m\u001b[1;33m)\u001b[0m\u001b[1;33m\u001b[0m\u001b[1;33m\u001b[0m\u001b[0m\n\u001b[0;32m      3\u001b[0m \u001b[1;32mwhile\u001b[0m \u001b[1;32mTrue\u001b[0m\u001b[1;33m:\u001b[0m\u001b[1;33m\u001b[0m\u001b[1;33m\u001b[0m\u001b[0m\n\u001b[1;32m----> 4\u001b[1;33m     \u001b[0muserNum\u001b[0m \u001b[1;33m=\u001b[0m \u001b[0meval\u001b[0m\u001b[1;33m(\u001b[0m\u001b[0minput\u001b[0m\u001b[1;33m(\u001b[0m\u001b[1;34m\"请输入一个数字：\"\u001b[0m\u001b[1;33m)\u001b[0m\u001b[1;33m)\u001b[0m\u001b[1;33m\u001b[0m\u001b[1;33m\u001b[0m\u001b[0m\n\u001b[0m\u001b[0;32m      5\u001b[0m     \u001b[1;32mif\u001b[0m \u001b[0muserNum\u001b[0m\u001b[1;33m>\u001b[0m\u001b[0mguessNum\u001b[0m\u001b[1;33m:\u001b[0m\u001b[1;33m\u001b[0m\u001b[1;33m\u001b[0m\u001b[0m\n\u001b[0;32m      6\u001b[0m         \u001b[0mprint\u001b[0m\u001b[1;33m(\u001b[0m\u001b[1;34m\"猜大了，继续！\"\u001b[0m\u001b[1;33m)\u001b[0m\u001b[1;33m\u001b[0m\u001b[1;33m\u001b[0m\u001b[0m\n",
      "\u001b[1;32mc:\\users\\dell\\pycharmprojects\\stagetwo\\virtual_environment\\2021_10_ai\\lib\\site-packages\\ipykernel\\kernelbase.py\u001b[0m in \u001b[0;36mraw_input\u001b[1;34m(self, prompt)\u001b[0m\n\u001b[0;32m   1004\u001b[0m                 \u001b[1;34m\"raw_input was called, but this frontend does not support input requests.\"\u001b[0m\u001b[1;33m\u001b[0m\u001b[1;33m\u001b[0m\u001b[0m\n\u001b[0;32m   1005\u001b[0m             )\n\u001b[1;32m-> 1006\u001b[1;33m         return self._input_request(\n\u001b[0m\u001b[0;32m   1007\u001b[0m             \u001b[0mstr\u001b[0m\u001b[1;33m(\u001b[0m\u001b[0mprompt\u001b[0m\u001b[1;33m)\u001b[0m\u001b[1;33m,\u001b[0m\u001b[1;33m\u001b[0m\u001b[1;33m\u001b[0m\u001b[0m\n\u001b[0;32m   1008\u001b[0m             \u001b[0mself\u001b[0m\u001b[1;33m.\u001b[0m\u001b[0m_parent_ident\u001b[0m\u001b[1;33m[\u001b[0m\u001b[1;34m\"shell\"\u001b[0m\u001b[1;33m]\u001b[0m\u001b[1;33m,\u001b[0m\u001b[1;33m\u001b[0m\u001b[1;33m\u001b[0m\u001b[0m\n",
      "\u001b[1;32mc:\\users\\dell\\pycharmprojects\\stagetwo\\virtual_environment\\2021_10_ai\\lib\\site-packages\\ipykernel\\kernelbase.py\u001b[0m in \u001b[0;36m_input_request\u001b[1;34m(self, prompt, ident, parent, password)\u001b[0m\n\u001b[0;32m   1049\u001b[0m             \u001b[1;32mexcept\u001b[0m \u001b[0mKeyboardInterrupt\u001b[0m\u001b[1;33m:\u001b[0m\u001b[1;33m\u001b[0m\u001b[1;33m\u001b[0m\u001b[0m\n\u001b[0;32m   1050\u001b[0m                 \u001b[1;31m# re-raise KeyboardInterrupt, to truncate traceback\u001b[0m\u001b[1;33m\u001b[0m\u001b[1;33m\u001b[0m\u001b[1;33m\u001b[0m\u001b[0m\n\u001b[1;32m-> 1051\u001b[1;33m                 \u001b[1;32mraise\u001b[0m \u001b[0mKeyboardInterrupt\u001b[0m\u001b[1;33m(\u001b[0m\u001b[1;34m\"Interrupted by user\"\u001b[0m\u001b[1;33m)\u001b[0m \u001b[1;32mfrom\u001b[0m \u001b[1;32mNone\u001b[0m\u001b[1;33m\u001b[0m\u001b[1;33m\u001b[0m\u001b[0m\n\u001b[0m\u001b[0;32m   1052\u001b[0m             \u001b[1;32mexcept\u001b[0m \u001b[0mException\u001b[0m\u001b[1;33m:\u001b[0m\u001b[1;33m\u001b[0m\u001b[1;33m\u001b[0m\u001b[0m\n\u001b[0;32m   1053\u001b[0m                 \u001b[0mself\u001b[0m\u001b[1;33m.\u001b[0m\u001b[0mlog\u001b[0m\u001b[1;33m.\u001b[0m\u001b[0mwarning\u001b[0m\u001b[1;33m(\u001b[0m\u001b[1;34m\"Invalid Message:\"\u001b[0m\u001b[1;33m,\u001b[0m \u001b[0mexc_info\u001b[0m\u001b[1;33m=\u001b[0m\u001b[1;32mTrue\u001b[0m\u001b[1;33m)\u001b[0m\u001b[1;33m\u001b[0m\u001b[1;33m\u001b[0m\u001b[0m\n",
      "\u001b[1;31mKeyboardInterrupt\u001b[0m: Interrupted by user"
     ]
    }
   ],
   "source": [
    "from random import randint\n",
    "guessNum = randint(1,100)\n",
    "while True:\n",
    "    userNum = eval(input(\"请输入一个数字：\"))\n",
    "    if userNum>guessNum:\n",
    "        print(\"猜大了，继续！\")\n",
    "    elif userNum<guessNum:\n",
    "        print(\"猜小了，继续！\")\n",
    "    else:\n",
    "        print(\"恭喜猜对了！\")\n",
    "        break"
   ]
  },
  {
   "cell_type": "markdown",
   "id": "828f1792",
   "metadata": {},
   "source": [
    "## 平均成绩"
   ]
  },
  {
   "cell_type": "code",
   "execution_count": 12,
   "id": "7ba3ccdb",
   "metadata": {},
   "outputs": [
    {
     "name": "stdout",
     "output_type": "stream",
     "text": [
      "请输入一个数字：100\n",
      "是否继续:yes\n",
      "请输入一个数字：0\n",
      "是否继续:no\n",
      "平均成绩是： 50.0\n"
     ]
    }
   ],
   "source": [
    "total = 0\n",
    "times = 0\n",
    "while True:\n",
    "    getNum = eval(input(\"请输入一个数字：\"))\n",
    "    isGoOn = input(\"是否继续:\")\n",
    "    total += getNum \n",
    "    times += 1\n",
    "    if isGoOn=='no':\n",
    "        break\n",
    "print(\"平均成绩是：\", total/times)"
   ]
  },
  {
   "cell_type": "markdown",
   "id": "48daa017",
   "metadata": {},
   "source": [
    "## 数字加密"
   ]
  },
  {
   "cell_type": "code",
   "execution_count": 18,
   "id": "3664fe01",
   "metadata": {},
   "outputs": [
    {
     "name": "stdout",
     "output_type": "stream",
     "text": [
      "请输入一个四位数：1253\n",
      "6708\n",
      "8706\n"
     ]
    }
   ],
   "source": [
    "getNum = input(\"请输入一个四位数：\")\n",
    "s = ''\n",
    "for i in getNum:\n",
    "    eachItem = str((int(i)+5)%10)\n",
    "    s+=eachItem\n",
    "print(s)\n",
    "print(s[-1]+s[1:-1]+s[0])    \n"
   ]
  },
  {
   "cell_type": "code",
   "execution_count": 16,
   "id": "5225d810",
   "metadata": {},
   "outputs": [
    {
     "data": {
      "text/plain": [
       "2"
      ]
     },
     "execution_count": 16,
     "metadata": {},
     "output_type": "execute_result"
    }
   ],
   "source": [
    "a = 7\n",
    "(a+5)%10"
   ]
  },
  {
   "cell_type": "markdown",
   "id": "ecba65f7",
   "metadata": {},
   "source": [
    "## 阿凡提的请求"
   ]
  },
  {
   "cell_type": "code",
   "execution_count": 19,
   "id": "39b37d9d",
   "metadata": {},
   "outputs": [
    {
     "data": {
      "text/plain": [
       "[1,\n",
       " 2,\n",
       " 4,\n",
       " 8,\n",
       " 16,\n",
       " 32,\n",
       " 64,\n",
       " 128,\n",
       " 256,\n",
       " 512,\n",
       " 1024,\n",
       " 2048,\n",
       " 4096,\n",
       " 8192,\n",
       " 16384,\n",
       " 32768,\n",
       " 65536,\n",
       " 131072,\n",
       " 262144,\n",
       " 524288,\n",
       " 1048576,\n",
       " 2097152,\n",
       " 4194304,\n",
       " 8388608,\n",
       " 16777216,\n",
       " 33554432,\n",
       " 67108864,\n",
       " 134217728,\n",
       " 268435456,\n",
       " 536870912,\n",
       " 1073741824,\n",
       " 2147483648,\n",
       " 4294967296,\n",
       " 8589934592,\n",
       " 17179869184,\n",
       " 34359738368,\n",
       " 68719476736,\n",
       " 137438953472,\n",
       " 274877906944,\n",
       " 549755813888,\n",
       " 1099511627776,\n",
       " 2199023255552,\n",
       " 4398046511104,\n",
       " 8796093022208,\n",
       " 17592186044416,\n",
       " 35184372088832,\n",
       " 70368744177664,\n",
       " 140737488355328,\n",
       " 281474976710656,\n",
       " 562949953421312,\n",
       " 1125899906842624,\n",
       " 2251799813685248,\n",
       " 4503599627370496,\n",
       " 9007199254740992,\n",
       " 18014398509481984,\n",
       " 36028797018963968,\n",
       " 72057594037927936,\n",
       " 144115188075855872,\n",
       " 288230376151711744,\n",
       " 576460752303423488,\n",
       " 1152921504606846976,\n",
       " 2305843009213693952,\n",
       " 4611686018427387904,\n",
       " 9223372036854775808]"
      ]
     },
     "execution_count": 19,
     "metadata": {},
     "output_type": "execute_result"
    }
   ],
   "source": [
    "[2**(i-1) for i in range(1,65)]"
   ]
  },
  {
   "cell_type": "code",
   "execution_count": 23,
   "id": "3fa9ec06",
   "metadata": {},
   "outputs": [
    {
     "data": {
      "text/plain": [
       "[0, 2, 4, 6, 8, 10, 12, 14, 16, 18]"
      ]
     },
     "execution_count": 23,
     "metadata": {},
     "output_type": "execute_result"
    }
   ],
   "source": [
    "[i*2 for i in range(10)]"
   ]
  },
  {
   "cell_type": "code",
   "execution_count": 24,
   "id": "dfda31bd",
   "metadata": {},
   "outputs": [
    {
     "data": {
      "text/plain": [
       "[1, 2, 3]"
      ]
     },
     "execution_count": 24,
     "metadata": {},
     "output_type": "execute_result"
    }
   ],
   "source": [
    "a = [1,2]\n",
    "a.append(3)\n",
    "a"
   ]
  },
  {
   "cell_type": "code",
   "execution_count": 33,
   "id": "17a69f71",
   "metadata": {},
   "outputs": [
    {
     "name": "stdout",
     "output_type": "stream",
     "text": [
      "120\n"
     ]
    }
   ],
   "source": [
    "def xxx(n):\n",
    "    x=1\n",
    "    for i in range(1,n+1):\n",
    "        x = x * i\n",
    "    print(x)\n",
    "xxx(5)"
   ]
  },
  {
   "cell_type": "code",
   "execution_count": null,
   "id": "78ea7323",
   "metadata": {},
   "outputs": [],
   "source": []
  }
 ],
 "metadata": {
  "kernelspec": {
   "display_name": "Python 3 (ipykernel)",
   "language": "python",
   "name": "python3"
  },
  "language_info": {
   "codemirror_mode": {
    "name": "ipython",
    "version": 3
   },
   "file_extension": ".py",
   "mimetype": "text/x-python",
   "name": "python",
   "nbconvert_exporter": "python",
   "pygments_lexer": "ipython3",
   "version": "3.9.0"
  }
 },
 "nbformat": 4,
 "nbformat_minor": 5
}
