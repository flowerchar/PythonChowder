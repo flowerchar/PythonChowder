{
 "cells": [
  {
   "cell_type": "markdown",
   "id": "1d12cdc2",
   "metadata": {},
   "source": [
    "### 题目 有四个数字：1、2、3、4，能组成多少个互不相同且无重复数字的三位数？各是多少？"
   ]
  },
  {
   "cell_type": "code",
   "execution_count": 1,
   "id": "4a863313",
   "metadata": {},
   "outputs": [
    {
     "name": "stdout",
     "output_type": "stream",
     "text": [
      "1 2 3\n",
      "1 2 4\n",
      "1 3 2\n",
      "1 3 4\n",
      "1 4 2\n",
      "1 4 3\n",
      "2 1 3\n",
      "2 1 4\n",
      "2 3 1\n",
      "2 3 4\n",
      "2 4 1\n",
      "2 4 3\n",
      "3 1 2\n",
      "3 1 4\n",
      "3 2 1\n",
      "3 2 4\n",
      "3 4 1\n",
      "3 4 2\n",
      "4 1 2\n",
      "4 1 3\n",
      "4 2 1\n",
      "4 2 3\n",
      "4 3 1\n",
      "4 3 2\n",
      "24\n"
     ]
    }
   ],
   "source": [
    "total=0\n",
    "for i in range(1,5):\n",
    "    for j in range(1,5):\n",
    "        for k in range(1,5):\n",
    "            if ((i!=j)and(j!=k)and(k!=i)):\n",
    "                print(i,j,k)\n",
    "                total+=1\n",
    "print(total)\n"
   ]
  },
  {
   "cell_type": "markdown",
   "id": "8e28e0dd",
   "metadata": {},
   "source": [
    "### 这天第几天"
   ]
  },
  {
   "cell_type": "code",
   "execution_count": 6,
   "id": "cc5a507c",
   "metadata": {},
   "outputs": [
    {
     "name": "stdout",
     "output_type": "stream",
     "text": [
      "Year:2000\n",
      "Month:2\n",
      "day:29\n",
      "60\n"
     ]
    }
   ],
   "source": [
    "def isLeapYear(y):\n",
    "    return (y%400==0 or (y%4==0 and y%100!=0))\n",
    "DofM=[0,31,28,31,30,31,30,31,31,30,31,30]\n",
    "res=0\n",
    "year=int(input('Year:'))\n",
    "month=int(input('Month:'))\n",
    "day=int(input('day:'))\n",
    "if isLeapYear(year):\n",
    "    DofM[2]+=1\n",
    "for i in range(month):\n",
    "    res+=DofM[i]\n",
    "print(res+day)"
   ]
  },
  {
   "cell_type": "markdown",
   "id": "444a9dc5",
   "metadata": {},
   "source": [
    "### 三数排序"
   ]
  },
  {
   "cell_type": "code",
   "execution_count": 10,
   "id": "96e7b9f0",
   "metadata": {},
   "outputs": [
    {
     "name": "stdout",
     "output_type": "stream",
     "text": [
      "请输入三个整数，用空格分隔：25 12 99\n",
      "['12', '25', '99']\n"
     ]
    }
   ],
   "source": [
    "ls1 = input('请输入三个整数，用空格分隔：').split(' ')\n",
    "ls1.sort()\n",
    "print(ls1)"
   ]
  },
  {
   "cell_type": "markdown",
   "id": "7b9a9c0c",
   "metadata": {},
   "source": [
    "### 九九乘法表"
   ]
  },
  {
   "cell_type": "code",
   "execution_count": 11,
   "id": "5b94fa31",
   "metadata": {},
   "outputs": [
    {
     "name": "stdout",
     "output_type": "stream",
     "text": [
      "i*j=1 \n",
      "i*j=2 i*j=4 \n",
      "i*j=3 i*j=6 i*j=9 \n",
      "i*j=4 i*j=8 i*j=12 i*j=16 \n",
      "i*j=5 i*j=10 i*j=15 i*j=20 i*j=25 \n",
      "i*j=6 i*j=12 i*j=18 i*j=24 i*j=30 i*j=36 \n",
      "i*j=7 i*j=14 i*j=21 i*j=28 i*j=35 i*j=42 i*j=49 \n",
      "i*j=8 i*j=16 i*j=24 i*j=32 i*j=40 i*j=48 i*j=56 i*j=64 \n",
      "i*j=9 i*j=18 i*j=27 i*j=36 i*j=45 i*j=54 i*j=63 i*j=72 i*j=81 \n"
     ]
    }
   ],
   "source": [
    "for i in range(1,10):\n",
    "    for j in range(1,i+1):\n",
    "        print(f'{i}*{j}={i*j} ',end='')\n",
    "    print()"
   ]
  },
  {
   "cell_type": "markdown",
   "id": "a2b1fb2a",
   "metadata": {},
   "source": [
    "### 字符串构成"
   ]
  },
  {
   "cell_type": "code",
   "execution_count": 19,
   "id": "585366b6",
   "metadata": {},
   "outputs": [
    {
     "name": "stdout",
     "output_type": "stream",
     "text": [
      "输入字符串：654是的 a\n",
      "space:  1\n",
      "digit:  3\n",
      "alpha:  3\n",
      "other:  0\n"
     ]
    }
   ],
   "source": [
    "string=input(\"输入字符串：\")\n",
    "alp=0\n",
    "num=0\n",
    "spa=0\n",
    "oth=0\n",
    "for i in range(len(string)):\n",
    "    if string[i].isspace():\n",
    "        spa+=1\n",
    "    elif string[i].isdigit():\n",
    "        num+=1\n",
    "    elif string[i].isalpha():\n",
    "        alp+=1\n",
    "    else:\n",
    "        oth+=1\n",
    "print('space: ',spa)\n",
    "print('digit: ',num)\n",
    "print('alpha: ',alp)\n",
    "print('other: ',oth)\n"
   ]
  },
  {
   "cell_type": "markdown",
   "id": "48f1b631",
   "metadata": {},
   "source": [
    "### 题目 求s=a+aa+aaa+aaaa+aa…a的值，其中a是一个数字。例如2+22+222+2222+22222(此时共有5个数相加)，几个数相加由键盘控制。"
   ]
  },
  {
   "cell_type": "code",
   "execution_count": 17,
   "id": "8843c784",
   "metadata": {
    "scrolled": true
   },
   "outputs": [
    {
     "name": "stdout",
     "output_type": "stream",
     "text": [
      "被加数字：2\n",
      "加几次？：3\n",
      "结果是： 246\n"
     ]
    }
   ],
   "source": [
    "a=input('被加数字：')\n",
    "n=int(input('加几次？：'))\n",
    "res=0\n",
    "for i in range(n):\n",
    "    res+=int(a)\n",
    "    a+=a[0]\n",
    "print('结果是：',res)\n",
    "# n= 3 \n",
    "# i=1\n",
    "# print([i for i in range(10)])\n",
    "# # print([i in range(n)])"
   ]
  },
  {
   "cell_type": "markdown",
   "id": "3eff4e27",
   "metadata": {},
   "source": [
    "### 判断一个数是否是回文数"
   ]
  },
  {
   "cell_type": "code",
   "execution_count": 18,
   "id": "e84e9fa1",
   "metadata": {},
   "outputs": [
    {
     "name": "stdout",
     "output_type": "stream",
     "text": [
      "请输入一串数字：1234321\n",
      "奇数，是回文数\n"
     ]
    }
   ],
   "source": [
    "getString = input('请输入一串数字：')\n",
    "middle = len(getString)//2\n",
    "if len(getString)%2 == 0:\n",
    "    print('偶数，不会是回文数')\n",
    "else:\n",
    "    for i in range(0, len(getString)):\n",
    "        if not getString[i]== getString[len(getString)-i-1]:\n",
    "            print('奇数，但不是回文数')\n",
    "            break\n",
    "    else:\n",
    "        print('奇数，是回文数')"
   ]
  },
  {
   "cell_type": "markdown",
   "id": "1f5bea30",
   "metadata": {},
   "source": [
    "### 题目 请输入星期几的第一个字母来判断一下是星期几，如果第一个字母一样，则继续判断第二个字母。"
   ]
  },
  {
   "cell_type": "code",
   "execution_count": 1,
   "id": "d10750b3",
   "metadata": {},
   "outputs": [
    {
     "name": "stdout",
     "output_type": "stream",
     "text": [
      "请输入第一位字母:s\n",
      "请输入第二位字母:a\n",
      "saturday\n"
     ]
    }
   ],
   "source": [
    "weekT={'h':'thursday',\n",
    "       'u':'tuesday'}\n",
    "weekS={'a':'saturday',\n",
    "       'u':'sunday'}\n",
    "week={'t':weekT,\n",
    "      's':weekS,\n",
    "      'm':'monday',\n",
    "      'w':'wensday',\n",
    "      'f':'friday'}\n",
    "a=week[str(input('请输入第一位字母:')).lower()]\n",
    "if a==weekT or a==weekS:\n",
    "    print(a[str(input('请输入第二位字母:')).lower()])\n",
    "else:\n",
    "    print(a)"
   ]
  },
  {
   "cell_type": "markdown",
   "id": "0a94ec8a",
   "metadata": {},
   "source": [
    "### 用函数调用的形式打印n次hello"
   ]
  },
  {
   "cell_type": "code",
   "execution_count": 4,
   "id": "cf44e141",
   "metadata": {},
   "outputs": [
    {
     "name": "stdout",
     "output_type": "stream",
     "text": [
      "输入n的值：5\n",
      "Hello World!\n",
      "Hello World!\n",
      "Hello World!\n",
      "Hello World!\n",
      "Hello World!\n"
     ]
    }
   ],
   "source": [
    "def hello():\n",
    "    print('Hello World!')\n",
    "def helloAgain(n):\n",
    "    for i in range(n):\n",
    "        hello()\n",
    "helloAgain(int(input('输入n的值：')))"
   ]
  },
  {
   "cell_type": "markdown",
   "id": "28b8a174",
   "metadata": {},
   "source": [
    "### 求一个方阵对角线的和"
   ]
  },
  {
   "cell_type": "code",
   "execution_count": 5,
   "id": "b42472f3",
   "metadata": {},
   "outputs": [
    {
     "name": "stdout",
     "output_type": "stream",
     "text": [
      "请输入方阵的维度：4\n",
      "请输入第1行元素，使用,隔开：1,2,3,4\n",
      "请输入第2行元素，使用,隔开：5,6,7,8\n",
      "请输入第3行元素，使用,隔开：9,10,11,12\n",
      "请输入第4行元素，使用,隔开：13,14,15,16\n",
      "[[1, 2, 3, 4], [5, 6, 7, 8], [9, 10, 11, 12], [13, 14, 15, 16]]\n",
      "34\n"
     ]
    }
   ],
   "source": [
    "def transInt(ls):\n",
    "    newls = []\n",
    "    for i in ls:\n",
    "        newls.append(int(i))\n",
    "    return newls\n",
    "matrix = []\n",
    "res = 0\n",
    "times = int(input(\"请输入方阵的维度：\"))\n",
    "for i in range(times):\n",
    "    ls = input(f\"请输入第{i+1}行元素，使用,隔开：\").split(',')\n",
    "    ls = transInt(ls)\n",
    "    matrix.append(ls)\n",
    "print(matrix)\n",
    "for i in range(len(matrix)):\n",
    "    res+=matrix[i][i]\n",
    "print(res)"
   ]
  },
  {
   "cell_type": "code",
   "execution_count": 21,
   "id": "9da323f1",
   "metadata": {},
   "outputs": [
    {
     "name": "stdout",
     "output_type": "stream",
     "text": [
      "请输入一个数1234321\n",
      "yes\n",
      "yes\n",
      "yes\n",
      "yes\n",
      "yes\n",
      "yes\n",
      "yes\n"
     ]
    }
   ],
   "source": [
    "a=(input('请输入一个数'))\n",
    "for i in range(0,len(a)):\n",
    "    if  a[i]== a[len(a)-i-1]:\n",
    "        print('yes')"
   ]
  }
 ],
 "metadata": {
  "kernelspec": {
   "display_name": "Python 3 (ipykernel)",
   "language": "python",
   "name": "python3"
  },
  "language_info": {
   "codemirror_mode": {
    "name": "ipython",
    "version": 3
   },
   "file_extension": ".py",
   "mimetype": "text/x-python",
   "name": "python",
   "nbconvert_exporter": "python",
   "pygments_lexer": "ipython3",
   "version": "3.9.0"
  }
 },
 "nbformat": 4,
 "nbformat_minor": 5
}
