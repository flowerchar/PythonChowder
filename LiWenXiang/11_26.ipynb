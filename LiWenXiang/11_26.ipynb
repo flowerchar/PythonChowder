{
 "cells": [
  {
   "cell_type": "markdown",
   "id": "6843647b",
   "metadata": {},
   "source": [
    "## 圆类"
   ]
  },
  {
   "cell_type": "code",
   "execution_count": 3,
   "id": "85971b03",
   "metadata": {},
   "outputs": [
    {
     "data": {
      "text/plain": [
       "6.283185307179586"
      ]
     },
     "execution_count": 3,
     "metadata": {},
     "output_type": "execute_result"
    }
   ],
   "source": [
    "from math import pi\n",
    "class Circle():\n",
    "    def __init__(self, r):\n",
    "        self.r = r\n",
    "    def calArea(self):\n",
    "        return 2*pi*self.r**2\n",
    "a1 = Circle(1)\n",
    "a1.calArea()"
   ]
  },
  {
   "cell_type": "markdown",
   "id": "9fa84d0a",
   "metadata": {},
   "source": [
    "## p=1/2C   S=sqrt(p*(p-a)*(p-b)*(p-c))"
   ]
  },
  {
   "cell_type": "code",
   "execution_count": 15,
   "id": "8b8cc587",
   "metadata": {},
   "outputs": [
    {
     "data": {
      "text/plain": [
       "3"
      ]
     },
     "execution_count": 15,
     "metadata": {},
     "output_type": "execute_result"
    }
   ],
   "source": [
    "class Triangle():\n",
    "    edgs = 3\n",
    "    def __init__(self, a, b, c):\n",
    "        self.a = a\n",
    "        self.b = b\n",
    "        self.c = c\n",
    "        self.p = (a+b+c)*0.5\n",
    "        self.answer = self.calArea()\n",
    "    def calArea(self):\n",
    "        return (self.p*(self.p-self.a)*(self.p-self.b)*(self.p-self.c))**(1/2)\n",
    "a2 = Triangle(3,4,5)\n",
    "# a2.calArea()\n",
    "# a2.answer\n",
    "a2.edgs = 1\n",
    "a22 = Triangle(3,4,6)\n",
    "# a22.calArea()\n",
    "a22.edgs"
   ]
  },
  {
   "cell_type": "code",
   "execution_count": 1,
   "id": "50af0687",
   "metadata": {},
   "outputs": [
    {
     "data": {
      "text/plain": [
       "'lwl'"
      ]
     },
     "execution_count": 1,
     "metadata": {},
     "output_type": "execute_result"
    }
   ],
   "source": [
    "class Person():\n",
    "    def __init__(self, name, age, isBoy=True, height=170):\n",
    "        self.name = name\n",
    "        self.age = age\n",
    "        self.isBoy = isBoy\n",
    "        self.height = height\n",
    "    def run(self):\n",
    "        print(\"I can run\")\n",
    "    def sing(self):\n",
    "        print(\"I can sing\")\n",
    "    def study(self):\n",
    "        print(\"I can study\")\n",
    "    \n",
    "class Student(Person):\n",
    "    def __init__(self, name, age, isBoy=True, height=170, grade=60):\n",
    "        Person.__init__(self, name, age, height=170)\n",
    "#         self.name = name\n",
    "#         self.age = age\n",
    "#         self.isBoy = isBoy\n",
    "#         self.height = height\n",
    "        self.grade = grade\n",
    "    def study(self):\n",
    "        print(\"Students are wonderful\")\n",
    "        \n",
    "a3 = Student('lwl', 20, True,height=176)\n",
    "# a3.study()\n",
    "a3.name"
   ]
  }
 ],
 "metadata": {
  "kernelspec": {
   "display_name": "Python 3 (ipykernel)",
   "language": "python",
   "name": "python3"
  },
  "language_info": {
   "codemirror_mode": {
    "name": "ipython",
    "version": 3
   },
   "file_extension": ".py",
   "mimetype": "text/x-python",
   "name": "python",
   "nbconvert_exporter": "python",
   "pygments_lexer": "ipython3",
   "version": "3.9.0"
  }
 },
 "nbformat": 4,
 "nbformat_minor": 5
}
