{
 "cells": [
  {
   "cell_type": "markdown",
   "id": "61fdf003",
   "metadata": {},
   "source": [
    "## 1. 一行代码实现1--100之和"
   ]
  },
  {
   "cell_type": "code",
   "execution_count": 1,
   "id": "8922d5ca",
   "metadata": {},
   "outputs": [
    {
     "data": {
      "text/plain": [
       "5050"
      ]
     },
     "execution_count": 1,
     "metadata": {},
     "output_type": "execute_result"
    }
   ],
   "source": [
    "sum(range(1, 101))"
   ]
  },
  {
   "cell_type": "markdown",
   "id": "e4367da0",
   "metadata": {},
   "source": [
    "## 2.已知一个字符串为 “hello_world_yoyo”, 如何得到一个队列 [“hello”,”world”,”yoyo”]"
   ]
  },
  {
   "cell_type": "code",
   "execution_count": 2,
   "id": "9e122d6c",
   "metadata": {},
   "outputs": [
    {
     "data": {
      "text/plain": [
       "['hello', 'world', 'yoyo']"
      ]
     },
     "execution_count": 2,
     "metadata": {},
     "output_type": "execute_result"
    }
   ],
   "source": [
    "'hello_world_yoyo'.split(\"_\")"
   ]
  },
  {
   "cell_type": "markdown",
   "id": "1303b2ac",
   "metadata": {},
   "source": [
    "## 3.有个列表 [“hello”, “world”, “yoyo”]如何把把列表里面的字符串联起来，得到字符串 “hello_world_yoyo”"
   ]
  },
  {
   "cell_type": "code",
   "execution_count": 3,
   "id": "ea9d96ba",
   "metadata": {},
   "outputs": [
    {
     "data": {
      "text/plain": [
       "'hello_world_yoyo'"
      ]
     },
     "execution_count": 3,
     "metadata": {},
     "output_type": "execute_result"
    }
   ],
   "source": [
    "\"_\".join([\"hello\", \"world\", \"yoyo\"])"
   ]
  },
  {
   "cell_type": "markdown",
   "id": "c55a17c4",
   "metadata": {},
   "source": [
    "## 4.把字符串 s 中的每个空格替换成”%20”\n",
    "输入：s = “We are happy.”\n",
    "输出：”We%20are%20happy.”"
   ]
  },
  {
   "cell_type": "code",
   "execution_count": 4,
   "id": "5128059f",
   "metadata": {},
   "outputs": [
    {
     "name": "stdout",
     "output_type": "stream",
     "text": [
      "We%20are%20happy.\n"
     ]
    }
   ],
   "source": [
    "s = 'We are happy.'\n",
    "\n",
    "print(s.replace(' ', '%20'))\n"
   ]
  },
  {
   "cell_type": "markdown",
   "id": "c963bbdc",
   "metadata": {},
   "source": [
    "## 5.如何判断一个字符串是不是纯数字组成\n",
    "a = “123456”\n",
    "b = “yoyo123”"
   ]
  },
  {
   "cell_type": "code",
   "execution_count": 8,
   "id": "fc4c98de",
   "metadata": {},
   "outputs": [
    {
     "name": "stdout",
     "output_type": "stream",
     "text": [
      "请输入这个字符串：5.6\n",
      "是纯数字组成\n"
     ]
    }
   ],
   "source": [
    "try:\n",
    "    float(input(\"请输入这个字符串：\"))\n",
    "    print(\"是纯数字组成\")\n",
    "except ValueError:\n",
    "    print(\"不是纯数字组成\")"
   ]
  },
  {
   "cell_type": "markdown",
   "id": "4b14de47",
   "metadata": {},
   "source": [
    "## 6.题目 给一个不多于5位的正整数，要求：\n",
    "一、求它是几位数，\n",
    "二、逆序打印出各位数字。\n",
    "a = 12345"
   ]
  },
  {
   "cell_type": "code",
   "execution_count": 6,
   "id": "c1febc0f",
   "metadata": {},
   "outputs": [
    {
     "name": "stdout",
     "output_type": "stream",
     "text": [
      "123\n"
     ]
    }
   ],
   "source": [
    "a = '1234'\n",
    "print(a[0:-1:1])"
   ]
  },
  {
   "cell_type": "code",
   "execution_count": 9,
   "id": "80437d34",
   "metadata": {},
   "outputs": [
    {
     "name": "stdout",
     "output_type": "stream",
     "text": [
      "给一个不多于5位的正整数1234\n",
      "4位数\n",
      "4321"
     ]
    }
   ],
   "source": [
    "getNum = input(\"给一个不多于5位的正整数\")\n",
    "if len(getNum)>5:\n",
    "    print(\"多于五位了\")\n",
    "    exit(0)\n",
    "else:\n",
    "    print(f\"{len(getNum)}位数\")\n",
    "    for i in getNum[::-1]:\n",
    "        print(i, end='')"
   ]
  },
  {
   "cell_type": "markdown",
   "id": "7f0f746d",
   "metadata": {},
   "source": [
    "## 7.计算公式 13 + 23 + 33 + 43 + …….+ n3\n",
    "实现要求：\n",
    "输入 : n = 5\n",
    "输出 : 225\n",
    "对应的公式 : 13 + 23 + 33 + 43 + 53 = 165"
   ]
  },
  {
   "cell_type": "code",
   "execution_count": 12,
   "id": "a98c7150",
   "metadata": {},
   "outputs": [
    {
     "name": "stdout",
     "output_type": "stream",
     "text": [
      "请输入一个值：5\n",
      "165\n"
     ]
    }
   ],
   "source": [
    "n = int(input(\"请输入一个值：\"))\n",
    "three = 3*n\n",
    "total = 0\n",
    "for i in range(1,n+1):\n",
    "    total += i*10\n",
    "print(total+three)"
   ]
  },
  {
   "cell_type": "markdown",
   "id": "3c4d45d8",
   "metadata": {},
   "source": [
    "## 8.要求：判断数组元素是否对称。例如[1，2，0，2，1]，[1，2，3，3，2，1]这样的都是对称数组\n",
    "用Python代码判断，是对称数组打印True，不是打印False,"
   ]
  },
  {
   "cell_type": "code",
   "execution_count": 16,
   "id": "85931b15",
   "metadata": {},
   "outputs": [
    {
     "name": "stdout",
     "output_type": "stream",
     "text": [
      "请输入一个列表，用英文半角,连接1,2,0,2,1\n",
      "True\n"
     ]
    }
   ],
   "source": [
    "getList = input(\"请输入一个列表，用英文半角,连接\")\n",
    "getList = getList.split(',')\n",
    "print(getList==getList[::-1])"
   ]
  },
  {
   "cell_type": "markdown",
   "id": "c873ac31",
   "metadata": {},
   "source": [
    "## 9.a = [“hello”, “world”, “yoyo”, “congratulations”]\n",
    "找出列表中单词最长的一个"
   ]
  },
  {
   "cell_type": "code",
   "execution_count": 18,
   "id": "159075c1",
   "metadata": {},
   "outputs": [
    {
     "name": "stdout",
     "output_type": "stream",
     "text": [
      "congratulations\n"
     ]
    }
   ],
   "source": [
    "MAX = [0,0]\n",
    "a = [\"hello\", \"world\", \"yoyo\", \"congratulations\"]\n",
    "for i in a:\n",
    "    if MAX[0]<len(i):\n",
    "        MAX[0]=len(i)\n",
    "        MAX[1]=i\n",
    "print(MAX[1])"
   ]
  },
  {
   "cell_type": "markdown",
   "id": "63b58082",
   "metadata": {},
   "source": [
    "## 10.用一行代码生成一个包含 1-10 之间所有偶数的列表"
   ]
  },
  {
   "cell_type": "code",
   "execution_count": 19,
   "id": "d7a2e9b2",
   "metadata": {},
   "outputs": [
    {
     "data": {
      "text/plain": [
       "[2, 4, 6, 8, 10]"
      ]
     },
     "execution_count": 19,
     "metadata": {},
     "output_type": "execute_result"
    }
   ],
   "source": [
    "[i for i in range(2, 11, 2) if i % 2 == 0]"
   ]
  },
  {
   "cell_type": "markdown",
   "id": "feb1caa6",
   "metadata": {},
   "source": [
    "## 11.给定一个整数数组nums 和一个目标值target ，请你在该数组中找出和为目标值的那两个整数，并返回他\n",
    "们的数组下标。\n",
    "你可以假设每种输入只会对应一个答案。但是，数组中同一个元素不能使用两遍。\n",
    "示例:\n",
    "给定nums=[2，7，11，15]，target=9\n",
    "因为nums[0] + nums[1] =2+7 = 9\n",
    "所以返回[0， 1]"
   ]
  },
  {
   "cell_type": "code",
   "execution_count": 6,
   "id": "6a1130a8",
   "metadata": {},
   "outputs": [
    {
     "name": "stdout",
     "output_type": "stream",
     "text": [
      "[0, 2]\n"
     ]
    }
   ],
   "source": [
    "nums=[2,7,11,15]\n",
    "ans = []\n",
    "for outer_index, outer_value in enumerate(nums):\n",
    "    for inner_index, inner_value in enumerate(nums[outer_index::]):\n",
    "        if outer_value+inner_value==13:\n",
    "            ans.append(outer_index)\n",
    "            ans.append(inner_index)\n",
    "print(ans)"
   ]
  },
  {
   "cell_type": "markdown",
   "id": "fe4f9174",
   "metadata": {},
   "source": [
    "## 12.[[1,2],[3,4],[5,6]] 如何得到 [1, 2, 3, 4, 5, 6]"
   ]
  },
  {
   "cell_type": "code",
   "execution_count": 12,
   "id": "fede353d",
   "metadata": {},
   "outputs": [
    {
     "data": {
      "text/plain": [
       "[1, 2, 3, 4, 5, 6]"
      ]
     },
     "execution_count": 12,
     "metadata": {},
     "output_type": "execute_result"
    }
   ],
   "source": [
    "a = [[1, 2], [3, 4], [5, 6]]\n",
    "b = [e for i in a  for e in i] ##大前小后\n",
    "b"
   ]
  },
  {
   "cell_type": "markdown",
   "id": "db9e6b40",
   "metadata": {},
   "source": [
    "## 13.有个列表a = [1, 2, 3, 4] 计算列表中每个数除以2 取出余数 得到 [1,0,1,0]"
   ]
  },
  {
   "cell_type": "code",
   "execution_count": 14,
   "id": "097c40a1",
   "metadata": {},
   "outputs": [
    {
     "name": "stdout",
     "output_type": "stream",
     "text": [
      "[1, 0, 1, 0]\n"
     ]
    }
   ],
   "source": [
    "a = [1, 2, 3, 4]\n",
    "b = []\n",
    "for i in a:\n",
    "    b.append(i%2)\n",
    "print(b)"
   ]
  },
  {
   "cell_type": "markdown",
   "id": "a2f5d431",
   "metadata": {},
   "source": [
    "## 14.a=[1,3,5],b=[2,4,6]相乘得到[2,12,30]"
   ]
  },
  {
   "cell_type": "code",
   "execution_count": 16,
   "id": "3f72737e",
   "metadata": {},
   "outputs": [
    {
     "name": "stdout",
     "output_type": "stream",
     "text": [
      "[2, 12, 30]\n"
     ]
    }
   ],
   "source": [
    "a = [1, 3, 5]\n",
    "b = [2, 4, 6]\n",
    "c = []\n",
    "for i, j in zip(a, b):\n",
    "    c.append(i*j)\n",
    "print(c)"
   ]
  },
  {
   "cell_type": "markdown",
   "id": "63ab6563",
   "metadata": {},
   "source": [
    "## 15.函数计算10！"
   ]
  },
  {
   "cell_type": "code",
   "execution_count": 18,
   "id": "46b8ed86",
   "metadata": {},
   "outputs": [
    {
     "name": "stdout",
     "output_type": "stream",
     "text": [
      "3628800\n"
     ]
    }
   ],
   "source": [
    "def f(num):\n",
    "#     if num == 1 or num == 0:\n",
    "#         return 1\n",
    "#     else:\n",
    "#         return num * f(num - 1)\n",
    "    return 1 if num == 1 or num == 0 else num * f(num - 1)\n",
    "print(f((10)))\n"
   ]
  },
  {
   "cell_type": "markdown",
   "id": "1d83ac83",
   "metadata": {},
   "source": [
    "## 16.在以下文本中找出 每行中长度超过3的单词:\n",
    "Call me Ishmael. Some years ago - never mind how long precisely - having\n",
    "little or no money in my purse, and nothing particular to interest me\n",
    "on shore, I thought I would sail about a little and see the watery part\n",
    "of the world. It is a way I have of driving off the spleen, and regulating\n",
    "the circulation. - Moby Dick"
   ]
  },
  {
   "cell_type": "code",
   "execution_count": 20,
   "id": "20d40251",
   "metadata": {},
   "outputs": [
    {
     "name": "stdout",
     "output_type": "stream",
     "text": [
      "Call me Ishmael. Some years ago - never mind how long precisely - having\n",
      "little or no money in my purse, and nothing particular to interest me\n",
      "on shore, I thought I would sail about a little and see the watery part\n",
      "of the world. It is a way I have of driving off the spleen, and regulating\n",
      "the circulation. - Moby Dick\n",
      "LLLLLL\n",
      "['Call me Ishmael. Some years ago - never mind how long precisely - having', 'little or no money in my purse, and nothing particular to interest me', 'on shore, I thought I would sail about a little and see the watery part', 'of the world. It is a way I have of driving off the spleen, and regulating', 'the circulation. - Moby Dick']\n"
     ]
    }
   ],
   "source": [
    "a='''Call me Ishmael. Some years ago - never mind how long precisely - having\n",
    "little or no money in my purse, and nothing particular to interest me\n",
    "on shore, I thought I would sail about a little and see the watery part\n",
    "of the world. It is a way I have of driving off the spleen, and regulating\n",
    "the circulation. - Moby Dick'''\n",
    "list1=[[j for j in i.split(' ') if len(j)>3 ]for i in a.split('\\n')]"
   ]
  },
  {
   "cell_type": "markdown",
   "id": "36962625",
   "metadata": {},
   "source": [
    "## 17.有一个数据list of dict如下\n",
    "a = [\n",
    "{“yoyo1”: “123456”},\n",
    "{“yoyo2”: “123456”},\n",
    "{“yoyo3”: “123456”},\n",
    "]\n",
    "写入到本地一个txt文件，内容格式如下：\n",
    "yoyo1,123456\n",
    "yoyo2,123456\n",
    "yoyo3,123456"
   ]
  },
  {
   "cell_type": "code",
   "execution_count": 22,
   "id": "57585a01",
   "metadata": {},
   "outputs": [],
   "source": [
    "a = [\n",
    "        {\"yoyo1\": \"123456\"},\n",
    "        {\"yoyo2\": \"123456\"},\n",
    "        {\"yoyo3\": \"123456\"},\n",
    "    ]\n",
    "with open('test.txt', 'w') as f:\n",
    "    for i in a:\n",
    "        for key, value in i.items():\n",
    "            f.write(f\"{key},{value}\\n\")"
   ]
  },
  {
   "cell_type": "markdown",
   "id": "a959b381",
   "metadata": {},
   "source": [
    "## 18.实现用户输入用户名和密码，当用户名为root且密码为123时，显示登陆成功，否则登陆失败"
   ]
  },
  {
   "cell_type": "code",
   "execution_count": 4,
   "id": "41fdd585",
   "metadata": {},
   "outputs": [
    {
     "name": "stdout",
     "output_type": "stream",
     "text": [
      "请输入账号:46\n",
      "请输入密码:45\n",
      "登陆失败\n",
      "请输入账号:root\n",
      "请输入密码:123\n",
      "登陆成功!\n"
     ]
    }
   ],
   "source": [
    "while True:\n",
    "    username = input('请输入账号:')\n",
    "    password = input('请输入密码:')\n",
    "    if username == 'root' and int(password) == 123:\n",
    "        print('登陆成功!')  # 登陆成功需跳出循环\n",
    "        break\n",
    "    else:\n",
    "        print('登陆失败')"
   ]
  },
  {
   "cell_type": "markdown",
   "id": "f7629839",
   "metadata": {},
   "source": [
    "## 19.实现用户输入用户名和密码，当用户名为root且密码为123时，显示登陆成功，否则登陆失败，失败时允许重复输入三次"
   ]
  },
  {
   "cell_type": "code",
   "execution_count": 6,
   "id": "7ed9062f",
   "metadata": {},
   "outputs": [
    {
     "name": "stdout",
     "output_type": "stream",
     "text": [
      "请输入账号:root\n",
      "请输入密码:123\n",
      "登陆成功!\n"
     ]
    }
   ],
   "source": [
    "count = 0\n",
    "while count < 3:\n",
    "    username = input('请输入账号:')\n",
    "    password = input('请输入密码:')\n",
    "    if username == 'root' and int(password) == 123:\n",
    "        print('登陆成功!')  # 登陆成功需跳出循环\n",
    "        break\n",
    "    else:\n",
    "        count += 1\n",
    "        print(f'登陆失败,还剩{(3 - count)}次机会')"
   ]
  },
  {
   "cell_type": "markdown",
   "id": "fe5a6218",
   "metadata": {},
   "source": [
    "## 20.简单的学生信息管理系统\n",
    "- 增加学生信息\n",
    "- 删除学生信息\n",
    "- 修改学生信息\n",
    "- 显示学生信息"
   ]
  },
  {
   "cell_type": "code",
   "execution_count": null,
   "id": "016cee03",
   "metadata": {},
   "outputs": [
    {
     "name": "stdout",
     "output_type": "stream",
     "text": [
      "当前学生信息为空!\n",
      "1.增加学生信息\n",
      "2.删除学生信息\n",
      "3.修改学生信息\n",
      "4.显示学生信息\n",
      "0.退出系统\n",
      "操作：1\n",
      "-----增加学生信息-----\n",
      "姓名:罗伟力\n",
      "性别:男\n",
      "年龄:20\n",
      "电话:19822636863\n",
      "添加成功!\n",
      "-----------学生信息------------\n",
      "序号\t姓名\t性别\t年龄\t电话\n",
      "1\t罗伟力\t男\t20\t19822636863\n",
      "------------------------------\n",
      "1.增加学生信息\n",
      "2.删除学生信息\n",
      "3.修改学生信息\n",
      "4.显示学生信息\n",
      "0.退出系统\n",
      "操作：4\n",
      "-----------学生信息------------\n",
      "序号\t姓名\t性别\t年龄\t电话\n",
      "1\t罗伟力\t男\t20\t19822636863\n",
      "------------------------------\n",
      "-----------学生信息------------\n",
      "序号\t姓名\t性别\t年龄\t电话\n",
      "1\t罗伟力\t男\t20\t19822636863\n",
      "------------------------------\n",
      "1.增加学生信息\n",
      "2.删除学生信息\n",
      "3.修改学生信息\n",
      "4.显示学生信息\n",
      "0.退出系统\n",
      "操作：3\n",
      "-----正在进行修改操作-----\n",
      "-----------学生信息------------\n",
      "序号\t姓名\t性别\t年龄\t电话\n",
      "1\t罗伟力\t男\t20\t19822636863\n",
      "------------------------------\n",
      "请输入要修改的学生序号:1\n",
      "1-修改姓名\n",
      "2-修改性别\n",
      "3-修改年龄\n",
      "4-修改电话\n",
      "请输入要修改的信息序号:1\n",
      "请输入新的信息:ron_willam\n",
      "修改成功!\n",
      "-----------学生信息------------\n",
      "序号\t姓名\t性别\t年龄\t电话\n",
      "1\tron_willam\t男\t20\t19822636863\n",
      "------------------------------\n",
      "1.增加学生信息\n",
      "2.删除学生信息\n",
      "3.修改学生信息\n",
      "4.显示学生信息\n",
      "0.退出系统\n"
     ]
    }
   ],
   "source": [
    "#存放学生信息\n",
    "student = list()\n",
    "#展示菜单\n",
    "def showMenu():\n",
    "    print(\"1.增加学生信息\")\n",
    "    print(\"2.删除学生信息\")\n",
    "    print(\"3.修改学生信息\")\n",
    "    print(\"4.显示学生信息\")\n",
    "    print(\"0.退出系统\")\n",
    "    select = eval(input(\"操作：\"))\n",
    "    return select\n",
    "#添加学生信息\n",
    "def addStudent():\n",
    "    print(\"-----增加学生信息-----\")\n",
    "    name = input(\"姓名:\")\n",
    "    sex = input(\"性别:\")\n",
    "    age = input(\"年龄:\")\n",
    "    phone = input(\"电话:\")\n",
    "    student.append({\"name\":name,\"sex\":sex,\"age\":age,\"phone\":phone})\n",
    "    print(\"添加成功!\")\n",
    "#展示学生信息\n",
    "def showStudent():\n",
    "    if len(student) == 0:\n",
    "        print(\"当前学生信息为空!\")\n",
    "    else:\n",
    "        print(\"-----------学生信息------------\")\n",
    "        print(\"序号\\t姓名\\t性别\\t年龄\\t电话\")\n",
    "        for i in range(0,len(student)):\n",
    "            print(f\"{i+1}\\t{student[i].get('name')}\\t{student[i].get('sex')}\\t{student[i].get('age')}\\t{student[i].get('phone')}\")\n",
    "        print(\"------------------------------\")\n",
    "#删除学生信息\n",
    "def delStudent():\n",
    "        print(\"---正在进行删除操作---\")\n",
    "        print(\"-----当前学生信息------\")\n",
    "        showStudent()\n",
    "        select = eval(input(\"请输入要删除的学生序号:\"))\n",
    "        del student[select-1]\n",
    "        print(\"删除成功!\")\n",
    "#修改学生信息\n",
    "def reviseStudent():\n",
    "    studict = {1: \"name\", 2: \"sex\", 3: \"age\", 4: \"phone\"}\n",
    "    print(\"-----正在进行修改操作-----\")\n",
    "    showStudent()\n",
    "    num = eval(input(\"请输入要修改的学生序号:\"))\n",
    "    print(\"1-修改姓名\\n2-修改性别\\n3-修改年龄\\n4-修改电话\")\n",
    "    revisenum = eval(input(\"请输入要修改的信息序号:\"))\n",
    "    newstr = input(\"请输入新的信息:\")\n",
    "    student[num-1][studict[revisenum]] = newstr\n",
    "    print(\"修改成功!\")\n",
    "#主要运行函数\n",
    "def init():\n",
    "    while True:\n",
    "        #显示学生信息\n",
    "        showStudent()\n",
    "        #显示菜单\n",
    "        select = showMenu()\n",
    "        if select == 1:\n",
    "            addStudent()\n",
    "        elif select == 2:\n",
    "            delStudent()\n",
    "        elif select == 3:\n",
    "            reviseStudent()\n",
    "        elif select == 4:\n",
    "            showStudent()\n",
    "        elif select == 0:\n",
    "            #退出系统\n",
    "            break\n",
    "        else:\n",
    "            print(\"输入有误！请重新操作！\")\n",
    "            continue\n",
    "init()"
   ]
  },
  {
   "cell_type": "code",
   "execution_count": 1,
   "id": "9cbfdf4f",
   "metadata": {},
   "outputs": [
    {
     "name": "stdout",
     "output_type": "stream",
     "text": [
      "C:\\Users\\DELL\\PycharmProjects\\StageTwo\\virtual_environment\\2021_10_AI\\Scripts\\LiWenXiang\n"
     ]
    }
   ],
   "source": [
    "!cd"
   ]
  },
  {
   "cell_type": "code",
   "execution_count": null,
   "id": "cadd29c3",
   "metadata": {},
   "outputs": [],
   "source": []
  }
 ],
 "metadata": {
  "kernelspec": {
   "display_name": "Python 3 (ipykernel)",
   "language": "python",
   "name": "python3"
  },
  "language_info": {
   "codemirror_mode": {
    "name": "ipython",
    "version": 3
   },
   "file_extension": ".py",
   "mimetype": "text/x-python",
   "name": "python",
   "nbconvert_exporter": "python",
   "pygments_lexer": "ipython3",
   "version": "3.9.0"
  }
 },
 "nbformat": 4,
 "nbformat_minor": 5
}
