{
 "cells": [
  {
   "cell_type": "code",
   "execution_count": null,
   "id": "2b4bf1a6",
   "metadata": {},
   "outputs": [],
   "source": [
    "1."
   ]
  },
  {
   "cell_type": "markdown",
   "id": "ad470315",
   "metadata": {},
   "source": [
    "```html\n",
    "<!DOCTYPE html>\n",
    "<html>\n",
    "<head>\n",
    "<meta charset=\"utf-8\">\n",
    "<title>站点名字</title>\n",
    "</head>\n",
    "<body>\n",
    "    <h1>我的第一个标题</h1>\n",
    "    <p>我的第一个段落。</p>\n",
    "</body>\n",
    "</html>\n",
    "```"
   ]
  },
  {
   "cell_type": "markdown",
   "id": "6cf55eac",
   "metadata": {},
   "source": [
    "2."
   ]
  },
  {
   "cell_type": "markdown",
   "id": "6febffaa",
   "metadata": {},
   "source": [
    "```html\n",
    "<!DOCTYPE html>\n",
    "<html>\n",
    "<head>\n",
    "<meta charset=\"utf-8\">\n",
    "<title>菜鸟教程(runoob.com)</title>\n",
    "</head>\n",
    "<body>\n",
    "\n",
    "<a href=\"https://www.baidu.com\">这是一个链接使用了 href 属性</a>\n",
    "\n",
    "</body>\n",
    "</html>\n",
    "```"
   ]
  },
  {
   "cell_type": "markdown",
   "id": "7f1e9a0b",
   "metadata": {},
   "source": [
    "3."
   ]
  },
  {
   "cell_type": "markdown",
   "id": "16d22c1e",
   "metadata": {},
   "source": [
    "```html\n",
    "<!DOCTYPE html>\n",
    "<html>\n",
    "<head>\n",
    "<meta charset=\"utf-8\">\n",
    "<title>菜鸟教程(runoob.com)</title>\n",
    "</head>\n",
    "<body>\n",
    "\n",
    "<img src=\"/images/logo.png\" width=\"258\" height=\"39\" />\n",
    "\n",
    "</body>\n",
    "</html>\n",
    "```"
   ]
  },
  {
   "cell_type": "markdown",
   "id": "f24bf329",
   "metadata": {},
   "source": [
    "4."
   ]
  },
  {
   "cell_type": "markdown",
   "id": "e02d6aa9",
   "metadata": {},
   "source": [
    "```html\n",
    "<!DOCTYPE html>\n",
    "<html>\n",
    "<head> \n",
    "<meta charset=\"utf-8\"> \n",
    "<title>菜鸟教程(runoob.com)</title> \n",
    "</head> \n",
    "<body>\n",
    "\n",
    "<b>加粗文本</b><br><br>\n",
    "<i>斜体文本</i><br><br>\n",
    "<code>电脑自动输出</code><br><br>\n",
    "这是 <sub> 下标</sub> 和 <sup> 上标</sup>\n",
    "\n",
    "</body>\n",
    "</html>\n",
    "```"
   ]
  },
  {
   "cell_type": "markdown",
   "id": "7bd2e281",
   "metadata": {},
   "source": [
    "5."
   ]
  },
  {
   "cell_type": "markdown",
   "id": "fafa9dca",
   "metadata": {},
   "source": [
    "```html\n",
    "<!DOCTYPE html>\n",
    "<html>\n",
    "<head> \n",
    "<meta charset=\"utf-8\"> \n",
    "<title>菜鸟教程(runoob.com)</title> \n",
    "</head>\n",
    "<body style=\"background-color:yellow;\">\n",
    "<h2 style=\"background-color:red;\">这是一个标题</h2>\n",
    "<p style=\"background-color:green;\">这是一个段落。</p>\n",
    "</body>\n",
    "</html>\n",
    "```"
   ]
  },
  {
   "cell_type": "markdown",
   "id": "049f7d17",
   "metadata": {},
   "source": [
    "6."
   ]
  },
  {
   "cell_type": "markdown",
   "id": "806aff09",
   "metadata": {},
   "source": [
    "```html\n",
    "<!DOCTYPE html>\n",
    "<html>\n",
    "<head> \n",
    "<meta charset=\"utf-8\"> \n",
    "<title>菜鸟教程(runoob.com)</title> \n",
    "</head>\n",
    "<body>\n",
    "\n",
    "<h1 style=\"text-align:center;\">居中对齐的标题</h1>\n",
    "<p>这是一个段落。</p>\n",
    "\n",
    "</body>\n",
    "</html>\n",
    "````"
   ]
  },
  {
   "cell_type": "markdown",
   "id": "7bf7ae66",
   "metadata": {},
   "source": [
    "7."
   ]
  },
  {
   "cell_type": "markdown",
   "id": "faefb7a0",
   "metadata": {},
   "source": [
    "```html\n",
    "<!DOCTYPE html>\n",
    "<html>\n",
    "<head>\n",
    "<meta charset=\"utf-8\">\n",
    "<title>菜鸟教程(runoob.com)</title>\n",
    "</head>\n",
    "<body>\n",
    "\n",
    "    <table border=\"1\">\n",
    "        <tr>\n",
    "            <th>Header 1</th>\n",
    "            <th>Header 2</th>\n",
    "        </tr>\n",
    "        <tr>\n",
    "            <td>row 1, cell 1</td>\n",
    "            <td>row 1, cell 2</td>\n",
    "        </tr>\n",
    "        <tr>\n",
    "            <td>row 2, cell 1</td>\n",
    "            <td>row 2, cell 2</td>\n",
    "        </tr>\n",
    "    </table>\n",
    "</body>\n",
    "</html>\n",
    "```"
   ]
  },
  {
   "cell_type": "markdown",
   "id": "5287acc5",
   "metadata": {},
   "source": [
    "8."
   ]
  },
  {
   "cell_type": "markdown",
   "id": "cd0d9d7c",
   "metadata": {},
   "source": [
    "<ul>\n",
    "<li>Coffee</li>\n",
    "<li>Milk</li>\n",
    "</ul>"
   ]
  },
  {
   "cell_type": "markdown",
   "id": "be139684",
   "metadata": {},
   "source": [
    "9."
   ]
  },
  {
   "cell_type": "markdown",
   "id": "022ff7d8",
   "metadata": {},
   "source": [
    " 您的性别是：<br>\n",
    "    <input type=\"radio\" name=\"sex\" value=\"boy\">男生\n",
    "    <input type=\"radio\" name=\"sex\" value=\"girl\" checked>女生\n",
    "    <input type=\"radio\" name=\"sex\" value=\"secret\"> 保密<br>\n",
    "    您最喜欢的休闲活动是：<br>\n",
    "    <input type=\"checkbox\" name=\"enjoy\">听音乐\n",
    "    <input type=\"checkbox\" name=\"enjoy\">看电影\n",
    "    <input type=\"checkbox\" name=\"enjoy\">打游戏<br>\n",
    "    <input type=\"submit\" value=\"发送\">\n",
    "    <input type=\"reset\" value=\"重置\">"
   ]
  },
  {
   "cell_type": "markdown",
   "id": "6044becd",
   "metadata": {},
   "source": [
    "10."
   ]
  },
  {
   "cell_type": "markdown",
   "id": "4e0bce42",
   "metadata": {},
   "source": [
    "<!DOCTYPE html>\n",
    "<html>\n",
    "<head>\n",
    "<meta charset=\"utf-8\">\n",
    "<title>菜鸟教程(runoob.com)</title>\n",
    "<script>\n",
    "function displayDate(){\n",
    "\tdocument.getElementById(\"demo\").innerHTML=Date();\n",
    "}\n",
    "</script>\n",
    "</head>\n",
    "<body>\n",
    "\n",
    "<h1>我的第一个 JavaScript 程序</h1>\n",
    "<p id=\"demo\">这是一个段落</p>\n",
    "\n",
    "<button type=\"button\" onclick=\"displayDate()\">显示日期</button>\n",
    "\n",
    "</body>\n",
    "</html>"
   ]
  },
  {
   "cell_type": "markdown",
   "id": "563bdda7",
   "metadata": {},
   "source": [
    "11."
   ]
  },
  {
   "cell_type": "markdown",
   "id": "8730201d",
   "metadata": {},
   "source": [
    "<!DOCTYPE html>\n",
    "<html>\n",
    "<head>\n",
    "<meta charset=\"utf-8\">\n",
    "<title>菜鸟教程(runoob.com)</title>\n",
    "</head>\n",
    "<body>\n",
    "\t\n",
    "<p>\n",
    "JavaScript 能够直接写入 HTML 输出流中：\n",
    "</p>\n",
    "<script>\n",
    "document.write(\"<h1>这是一个标题</h1>\");\n",
    "document.write(\"<p>这是一个段落。</p>\");\n",
    "</script>\n",
    "<p>\n",
    "您只能在 HTML 输出流中使用 <strong>document.write</strong>。\n",
    "如果您在文档已加载后使用它（比如在函数中），会覆盖整个文档。\n",
    "</p>\n",
    "\t\n",
    "</body>\n",
    "</html>"
   ]
  },
  {
   "cell_type": "markdown",
   "id": "d9361ae7",
   "metadata": {},
   "source": [
    "12."
   ]
  },
  {
   "cell_type": "markdown",
   "id": "c34ceacd",
   "metadata": {},
   "source": [
    "<!DOCTYPE html>\n",
    "<html>\n",
    "<head> \n",
    "<meta charset=\"utf-8\"> \n",
    "<title>菜鸟教程(runoob.com)</title> \n",
    "</head>\n",
    "<body>\n",
    "\t\n",
    "<h1>我的第一段 JavaScript</h1>\n",
    "<p id=\"demo\">\n",
    "JavaScript 能改变 HTML 元素的内容。\n",
    "</p>\n",
    "<script>\n",
    "function myFunction()\n",
    "{\n",
    "\tx=document.getElementById(\"demo\");  // 找到元素\n",
    "\tx.innerHTML=\"Hello JavaScript!\";    // 改变内容\n",
    "}\n",
    "</script>\n",
    "<button type=\"button\" onclick=\"myFunction()\">点击这里</button>\n",
    "\t\n",
    "</body>\n",
    "</html>"
   ]
  },
  {
   "cell_type": "markdown",
   "id": "4da8fcf4",
   "metadata": {},
   "source": [
    "13."
   ]
  },
  {
   "cell_type": "markdown",
   "id": "4e9ec49a",
   "metadata": {},
   "source": [
    "<!DOCTYPE html>\n",
    "<html>\n",
    "<head> \n",
    "<meta charset=\"utf-8\"> \n",
    "<title>菜鸟教程(runoob.com)</title> \n",
    "</head>\n",
    "<body>\n",
    "\t\n",
    "<h1>我的第一段 JavaScript</h1>\n",
    "<p>请输入数字。如果输入值不是数字，浏览器会弹出提示框。</p>\n",
    "<input id=\"demo\" type=\"text\">\n",
    "<script>\n",
    "function myFunction()\n",
    "{\n",
    "\tvar x=document.getElementById(\"demo\").value;\n",
    "\tif(x==\"\"||isNaN(x))\n",
    "\t{\n",
    "\t\talert(\"不是数字\");\n",
    "\t}\n",
    "}\n",
    "</script>\n",
    "<button type=\"button\" onclick=\"myFunction()\">点击这里</button>\n",
    "\t\n",
    "</body>\n",
    "</html>"
   ]
  },
  {
   "cell_type": "code",
   "execution_count": null,
   "id": "556c281b",
   "metadata": {},
   "outputs": [],
   "source": []
  },
  {
   "cell_type": "markdown",
   "id": "29b5dc16",
   "metadata": {},
   "source": [
    "<!DOCTYPE html>\n",
    "<html>\n",
    "<head> \n",
    "<meta charset=\"utf-8\"> \n",
    "<title>菜鸟教程(runoob.com)</title> \n",
    "</head>\n",
    "<body>\n",
    "\t\n",
    "<h1>我的第一段 JavaScript</h1>\n",
    "<p>请输入数字。如果输入值不是数字，浏览器会弹出提示框。</p>\n",
    "<input id=\"demo\" type=\"text\">\n",
    "<script>\n",
    "function myFunction()\n",
    "{\n",
    "\tvar x=document.getElementById(\"demo\").value;\n",
    "\tif(x==\"\"||isNaN(x))\n",
    "\t{\n",
    "\t\talert(\"不是数字\");\n",
    "\t}\n",
    "}\n",
    "</script>\n",
    "<button type=\"button\" onclick=\"myFunction()\">点击这里</button>\n",
    "</body>\n",
    "</html>"
   ]
  }
 ],
 "metadata": {
  "kernelspec": {
   "display_name": "Python 3 (ipykernel)",
   "language": "python",
   "name": "python3"
  },
  "language_info": {
   "codemirror_mode": {
    "name": "ipython",
    "version": 3
   },
   "file_extension": ".py",
   "mimetype": "text/x-python",
   "name": "python",
   "nbconvert_exporter": "python",
   "pygments_lexer": "ipython3",
   "version": "3.9.0"
  }
 },
 "nbformat": 4,
 "nbformat_minor": 5
}
