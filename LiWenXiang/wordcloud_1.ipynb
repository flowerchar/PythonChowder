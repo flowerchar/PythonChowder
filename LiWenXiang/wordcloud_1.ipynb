{
 "cells": [
  {
   "cell_type": "markdown",
   "id": "f432268f",
   "metadata": {},
   "source": [
    "## 初次体验"
   ]
  },
  {
   "cell_type": "code",
   "execution_count": 4,
   "id": "c6c71fda",
   "metadata": {},
   "outputs": [
    {
     "data": {
      "text/plain": [
       "<wordcloud.wordcloud.WordCloud at 0x274e8cce820>"
      ]
     },
     "execution_count": 4,
     "metadata": {},
     "output_type": "execute_result"
    }
   ],
   "source": [
    "import wordcloud\n",
    "c=wordcloud.WordCloud(width=800,height=600)           #1.配置对象参数\n",
    "c.generate(\"wordcloud by python\")  #2.加载词云文本\n",
    "c.to_file(\"pywordcloud.png\")  "
   ]
  },
  {
   "cell_type": "markdown",
   "id": "6763f3ea",
   "metadata": {},
   "source": [
    "## wordcloud搭配jieba"
   ]
  },
  {
   "cell_type": "code",
   "execution_count": 8,
   "id": "a38f548d",
   "metadata": {},
   "outputs": [
    {
     "name": "stdout",
     "output_type": "stream",
     "text": [
      "故事 起源 於 1952 年 ， 主角 吴邪 的 祖父 吴老狗 在 长沙 的 血屍 墓 里 发现 战国 帛书 ， 而 引发 後 来 吴邪 从 帛书 解谜 途中 的 一段段 冒险 。 五十年 後 ， 吴邪 一个 看似 单纯 的 吴家富 二代 ， 大学毕业 後 便 经营 著 古董店 ， 日子 过 一天 是 一天 ， 殊不知 其 身世 冒险 之 离奇 ， 因为 发现 先人 笔记 中 一个 秘密 就此 展开 。 抱著 好奇 和 一颗 想 见世面 的 心 ， 他 硬是 跟上 他 三叔及 一群 盗墓 高手 的 鲁 王宫 之旅 ， 欲 解开 帛书 之谜 。 在 这个 过程 中 他 遇见 了 闷 油瓶 和 胖子 。 在 途中 ， 很多 他 一辈子 都 没见 过 的 东西 ， 或是 连想 都 没想 过 的 东西 ， 一个 接著 一个 出现 。 遭遇 的 每件事 ， 越来越 离奇 。 就 在 他 发现自己 的 生活 满是 谜题 ， 并 欲 寻求 解答 时 ， 唯一 的 线索 ─ 三叔 却 消失 了 。 不甘 放弃 的 吴邪 ， 决定 追 根究 柢 ， 也 决定 今 後 不凡 但 却 不为人知 的 冒险 旅程 。\n"
     ]
    }
   ],
   "source": [
    "import wordcloud\n",
    "import jieba\n",
    "s = '故事起源於1952年，主角吴邪的祖父吴老狗在长沙的血屍墓里发现战国帛书，而引发後来吴邪从帛书解谜途中的一段段冒险。五十年後，吴邪一个看似单纯的吴家富二代，大学毕业後便经营著古董店，日子过一天是一天，殊不知其身世冒险之离奇，因为发现先人笔记中一个秘密就此展开。抱著好奇和一颗想见世面的心，他硬是跟上他三叔及一群盗墓高手的鲁王宫之旅，欲解开帛书之谜。在这个过程中他遇见了闷油瓶和胖子。在途中，很多他一辈子都没见过的东西，或是连想都没想过的东西，一个接著一个出现。遭遇的每件事，越来越离奇。就在他发现自己的生活满是谜题，并欲寻求解答时，唯一的线索─三叔却消失了。不甘放弃的吴邪，决定追根究柢，也决定今後不凡但却不为人知的冒险旅程。'\n",
    "# 解决中文乱码\n",
    "w1 = wordcloud.WordCloud(font_path=r'C:\\Windows\\Fonts\\STXINWEI.TTF')\n",
    "# 未使用jieba分词，将整段句子作为词云\n",
    "w1.generate(s)\n",
    "w1.to_file(\"未经过分词的盗墓笔记.png\")\n",
    "\n",
    "# 使用jieba分词，获得单个词组\n",
    "w1.generate(' '.join(jieba.lcut(s)))\n",
    "w1.to_file(\"经过分词的盗墓笔记.png\")\n",
    "print(' '.join(jieba.lcut(s)))"
   ]
  },
  {
   "cell_type": "markdown",
   "id": "38982f29",
   "metadata": {},
   "source": [
    "## 自定义的图片"
   ]
  },
  {
   "cell_type": "code",
   "execution_count": null,
   "id": "44e5b7b0",
   "metadata": {},
   "outputs": [],
   "source": [
    "import wordcloud\n",
    "import jieba\n",
    "# from scipy.misc import imread\n",
    "from imageio import imread\n",
    "\n",
    "s = '一粒尘可填海，一根草斩尽日月星辰，弹指间天翻地覆。群雄并起，万族林立，诸圣争霸，乱天动地；问苍茫大地，谁主沉浮？一个少年从大荒中走出，一切从这里开始。'\n",
    "mask = imread(r\"C:\\Users\\DELL\\Desktop\\pictures\\csdn\\cxk_4.png\")\n",
    "w1 = wordcloud.WordCloud(mask=mask,font_path=r'C:\\Windows\\Fonts\\STXINWEI.TTF',background_color='white')\n",
    "w1.generate(' '.join(jieba.lcut(s)))\n",
    "w1.to_file('自定义图片.png')"
   ]
  },
  {
   "cell_type": "markdown",
   "id": "13d0fca6",
   "metadata": {},
   "source": [
    "## 给领导做的词云图"
   ]
  },
  {
   "cell_type": "code",
   "execution_count": 3,
   "id": "ee71ceeb",
   "metadata": {},
   "outputs": [
    {
     "name": "stdout",
     "output_type": "stream",
     "text": [
      "2021年全市大数据战略行动暨数字经济战略抢新机推进大会发言材料\n",
      "\n",
      "石阡县人民政府\n",
      "（2021年6月29日）\n",
      "\n",
      "各位领导、同志们：\n",
      "根据会议安排，现就石阡县大数据产业发展情况作简要汇报，不当之处，敬请批评指正。\n",
      "一、基本情况及主要做法\n",
      "今年以来，我县抢抓国家大数据（贵州）综合试验区建设机遇，按照省委“乡村振兴、大数据、大生态”三大战略和“四个强化”、“四个融合”、“六个突破”工作要求，认真落实市委、市政府工作部署，坚持新发展理念和“1234567”应用驱动大数据发展战略铜仁路径，积极实施大数据战略行动，大力推进大数据产业发展，全面提升社会治理能力和经济社会发展效益，大数据发展初见成效。一是聚焦基础设施，做实“大数据”文章。我县抢抓国家新基建战略发展机遇，依托县移动、联通、电信、广电网络和铁塔几大通信运营商，积极争取上级项目资金，加快信息基础设施建设，实施好“六网会战”之互联网会战和“通讯网络全覆盖”战略，做好5G基站点规划，加快推进5G建设和应用，以县城为起点，逐步实现5G网络覆盖到乡镇，为全县大数据应用场景、两化融合等提供坚实的信息基础保障，确保全县信息基础设施建设和通讯网络全面提升。截止目前，全县各行政村村委会、卫生室、学校都已经具备光纤/宽带接入能力，3G、4G网络全覆盖。二是聚焦应用场景，做活“大数据”文章。重点挖掘大数据政用、商用、民用价值，积极谋划大数据场景应用项目，逐步有效解决各行各业发展难点痛点和堵点问题，促进产业转型升级、民生改善、治理能力提升。充分利用数字科技助力脱贫攻坚，建设农业大数据平台，拓展电商渠道，发展智慧农业，助力产业扶贫和消费扶贫，依托大数据智能手段，实现全县扶贫数据、防贫预警、风险防控等有效监测。倾力打造智慧平安警务、智慧交通、智慧城市、智慧医疗、智慧教育、智慧农业、智慧工业、智慧旅游、智慧扶贫、智慧服务等一批应用场景，深入实施“一云一网一平台一体系”提升行动，强化“一云统揽”、提升“一网通办”、实现“一平台服务”，升级数据共享交换平台、政府数据开放平台。截止目前，全县共有大数据场景应用项目40余个，其中：政府治理应用项目30余个，如县公安局“天网工程”和“雪亮工程”、县应急管理局“智慧应急指挥平台”、县交通局“石阡交通应急指挥与信息中心”、县住建局“数字化城市管理监控平台”、县人大“石阡县人大代表服务平台”、县政协“石阡县智慧政协建设项目”等。大数据与实体经济融合项目15个，如贵州佛顶山水泥有限公司能源数据在线管理项目、县城投公司“智慧停车场”等。大数据民用项目3个，如石阡县坪地场乡大水井村乡村智慧有声书屋项目、石阡县大沙坝乡任家寨村和汤山街道平阳社区“短视频+大数据+扶贫电商”易视致富项目等。三是聚焦乡村振兴，做精“大数据”文章。为持续巩固好脱贫成果，全面推进脱贫攻坚与乡村振兴有效衔接，我们将紧扣国家乡村振兴战略和大数据发展新要求，结合我县实际，重点围绕石阡温泉、苔茶、石材、白酒、旅游等优势资源和社会治理需求，高质量、高标准制定好我县“十四五”大数据产业发展规划，大力发展“数字乡村”建设，充分发挥大数据在发展乡村振兴战略中的现代智能推手作用，不断夯实我县大数据产业发展。四是聚焦招商引资，做强“大数据”文章。为深入推进大数据战略行动，以大数据为引领，通过“互联网+”、“物联网+”、“区块链+”、“5G+”等智能化模式加快推进传统产业转型升级，积极营造良好的大数据营商环境，建立健全服务体系，加大大数据招商“寻苗”行动。今年上半年，外出对接协调大数据企业18次，来阡考察洽谈企业13家，新增大数据企业6家，在谈项目3个（分别为：数字乡村“石阡钉”应用试点项目、石阡县智慧教育平台建设项目、石阡县“一县一村一网红”项目），完成建设项目1个（石阡县仙人街慢直播体验项目）。五是聚焦目标任务，做深“大数据”文章。我县按照市级下达目标任务，科学安排，精心组织，不断调度，做到任务明确，责任到人，确保全年目标任务圆满完成。2021年1-5月，我县实际完成软件和信息服务业960万元；完成大数据与实体经济融合标杆培育项目1个、融合示范项目3个、融合带动企业6个；完成信息基础设施投资4100万元；完成应用场景谋划4个；完成5G建设43个（电信联通合建35个、移动8个）。\n",
      "二、存在问题\n",
      "（一）大数据产业发展基础比较薄弱。由于我县前期信息化水平较低，产业发展起步较晚，全县大数据产业发展基础薄弱，结构不完整，缺乏大数据产业发展相关企业，大数据产业发展生态链还没有形成。\n",
      "（二）部门联动意识需要进一步增强。部分部门学习把握大数据发展理念和政策形势的意识不强，参与建设和应用大数据产业发展的意识不积极，部门联动协作机制不健全、重视力度不够高，部门数据仍存在“不愿公开、不敢公开、不能公开”数据共享不顺畅，政府部门之间、企业之间、政府和企业之间信息不对称，缺乏公共平台和共享渠道。\n",
      "（三）5G建设需要进一步配合 。部分单位、小区、村民群众对5G基站建设支持配合力度不够，片面认为基站建设辐射大、风水差，导致建设工作推进缓慢。同时，信息基础设施建设统筹规划不足，5G站址规划需自然资源局纳入城乡规划，5G基站供电需供电部门给与政策支持。\n",
      "（四）政策资金支持需要进一步加大。由于地方财政十分紧张，在大数据配套设施建设、大数据应用、电子商务发展、产业链构建等方面政策、资金投入不多，融资平台出现短板，尤其是发展物联网、云计算、人工智能、区块链等新兴技术产业优惠政策更加缺乏，导致多数企业不愿来阡投资兴业，全县各级各部门推广应用大数据产业发展举步维艰，大数据产业发展工作推行难度较大。\n",
      "三、下步打算\n",
      "（一）着力抓好数据发展市场推手。借鉴省市模式，与省云上贵州或市梵云集团合作，充分发挥其成熟的技术团队、市场资源等优势，以政府平台公司为主体，共同发起成立我县县级大数据发展企业为抓手，实行市场化运作，负责承接全县大数据产业发展项目的开发、建设和运维，再采取社会购买服务方式交由政府各级各部门、社会团体及有关企业应用。结合我县山、水、石、泉、茶、城等，谋划包装一批项目进行申报，最大限度争取国家及省市政策和资金扶持，开发应用一批可经营性大数据应用场景建设项目，从而真正将我县大数据产业发展做大、做强、做活、做实。\n",
      "（二）着力抓好部门联动协作共建。坚持目标导向，切实加强领导，细化任务，落实责任，制定印发《石阡县2021年大数据发展工作要点》，将大数据工作分类别分行业分解到各单位各部门，明确牵头领导、牵头部门、责任部门和具体负责人，不折不扣地落实各项措施，形成部门联动、上下互动的大数据产业发展齐抓共管工作态势，确保各项工作快速有序推进。\n",
      "（三）着力抓好信息基础设施建设。下半年，我县将以全省推进“六网会战”和“新基建”为契机，依托县移动、联通、电信、广电、铁塔等几大通信运营商，加快推进“通讯网络全覆盖”战略，加大资金投入并积极争取上级专项资金，加快信息基础设施建设，实现信息基础设施建设和通讯网络全面提升。一是加快光纤到户网络改造和骨干网优化升级，力争全年完成改造优化1000余公里，新增补盲光纤固定宽带接入端口20000余个。二是优化4G网络，加快5G站点建设，建设5G基站120余个，重点实现城区、集镇、旅游景点和部分村寨5G网络普遍覆盖。三是全面提升网络传输能力建设，加快物联网、智能设备等现代化信息技术与农村生产生活的深度融合，推广适合农村、方便农民的信息化产品，助力乡村振兴。\n",
      "（四）着力抓好应用场景谋划发展。下半年，我县将继续坚持新发展理念和“1234567”应用驱动大数据发展战略铜仁路径，充分利用大数据、互联网+、物联网、人工智能等新一代信息技术，积极探索场景应用谋划，重点围绕智慧企服务平台、智慧医疗服务、智慧教育、智慧停车、智慧旅游、智慧农业等场景应用建设，通过场景应用建设深挖大数据“政商民”用价值，解决各行各业发展的疼点难点问题，从而促进产业转型升级、民生改善、治理能力提升，全面提升驱动智慧社会建设和经济快速发展。预计全年完成应用场景谋划10个。\n",
      "（五）着力抓好数据融合示范带动。一是结合新思路公司建设的石阡县社区生鲜电商项目，利用农业大数据平台数据，加强在生产、销售、运输及品质管控方面的体系建设，全力打造“大数据+品牌电商”石阡样板。二是利用石阡温泉、仙人街和佛顶山尧上旅游景区等成熟项目，引进省级大数据企业进行包装捆绑，将我县特有的旅游资源实时发送到各平台，通过数据整理完善及推广应用，把我县打造成铜仁大数据+智慧旅游的全域旅游样板县，为全县乡村振兴战略建设夯基础、强发展。三是大力推行“工业互联网+”战略举措，积极协调和帮助我县中小企业迁云，指导企业发展大数据应用促进企业提质增效、降本降耗，通过智能化管控打造集生产、加工、流通、销售等于一体的数字链，从而提升企业的市场竞争力和影响力。力争全年完成大数据与实体经济融合标杆培育项目1个、融合示范项目5个、融合带动企业20个。\n",
      "（六）着力抓好数据产业发展招商。结合我县优势旅游资源、名优特产业发展和园区建设等，通过“引进来、走出去”的方式引进大数据企业为我县旅游开发、产业发展、城市建设及乡村振兴等“牵丝达网”，积极引进省联通、贵州航天智慧农业、云上贵州、梵云集团、欧比特、美果科技等大数据开发企业真正入驻石阡并落地开花结果，不断夯实我县大数据产业发展。力争今年再新增引进大数据产业发展企业2家以上。\n",
      "\n",
      "\n"
     ]
    },
    {
     "data": {
      "text/plain": [
       "<wordcloud.wordcloud.WordCloud at 0x28542de4460>"
      ]
     },
     "execution_count": 3,
     "metadata": {},
     "output_type": "execute_result"
    }
   ],
   "source": [
    "# -*- coding: utf-8 -*-\n",
    "import jieba\n",
    "import wordcloud\n",
    "# ‪C:\\Users\\DELL\\Desktop\\test1.txt\n",
    "with open(r\"C:\\Users\\DELL\\Desktop\\test1.txt\",mode=\"r\",encoding=\"utf-8\") as fp:\n",
    "    data = fp.read()\n",
    "print(data)\n",
    "w = wordcloud.WordCloud(font_path=r'C:\\Windows\\Fonts\\STXINWEI.TTF')\n",
    "w.generate(' '.join(jieba.lcut_for_search(data)))\n",
    "w.to_file('1.png')"
   ]
  },
  {
   "cell_type": "code",
   "execution_count": 5,
   "id": "9bf5ee4d",
   "metadata": {},
   "outputs": [
    {
     "ename": "FileNotFoundError",
     "evalue": "[Errno 2] No such file or directory: 'source\\\\paper.txt'",
     "output_type": "error",
     "traceback": [
      "\u001b[1;31m---------------------------------------------------------------------------\u001b[0m",
      "\u001b[1;31mFileNotFoundError\u001b[0m                         Traceback (most recent call last)",
      "\u001b[1;32m~\\AppData\\Local\\Temp/ipykernel_1952/1466320525.py\u001b[0m in \u001b[0;36m<module>\u001b[1;34m\u001b[0m\n\u001b[0;32m      5\u001b[0m \u001b[1;32mdef\u001b[0m \u001b[0mgetTime\u001b[0m\u001b[1;33m(\u001b[0m\u001b[1;33m)\u001b[0m\u001b[1;33m:\u001b[0m\u001b[1;33m\u001b[0m\u001b[1;33m\u001b[0m\u001b[0m\n\u001b[0;32m      6\u001b[0m     \u001b[1;32mreturn\u001b[0m \u001b[1;33m(\u001b[0m\u001b[0mstrftime\u001b[0m\u001b[1;33m(\u001b[0m\u001b[1;34m'%Y_%m_%d_%H_%M_%S'\u001b[0m\u001b[1;33m,\u001b[0m\u001b[0mlocaltime\u001b[0m\u001b[1;33m(\u001b[0m\u001b[1;33m)\u001b[0m\u001b[1;33m)\u001b[0m\u001b[1;33m)\u001b[0m\u001b[1;33m\u001b[0m\u001b[1;33m\u001b[0m\u001b[0m\n\u001b[1;32m----> 7\u001b[1;33m \u001b[1;32mwith\u001b[0m \u001b[0mopen\u001b[0m\u001b[1;33m(\u001b[0m\u001b[1;34mr'source\\paper.txt'\u001b[0m\u001b[1;33m,\u001b[0m\u001b[0mmode\u001b[0m\u001b[1;33m=\u001b[0m\u001b[1;34m\"r\"\u001b[0m\u001b[1;33m,\u001b[0m\u001b[0mencoding\u001b[0m\u001b[1;33m=\u001b[0m\u001b[1;34m\"utf-8\"\u001b[0m\u001b[1;33m)\u001b[0m \u001b[1;32mas\u001b[0m \u001b[0mfp\u001b[0m\u001b[1;33m:\u001b[0m\u001b[1;33m\u001b[0m\u001b[1;33m\u001b[0m\u001b[0m\n\u001b[0m\u001b[0;32m      8\u001b[0m     \u001b[0mall_words\u001b[0m \u001b[1;33m=\u001b[0m \u001b[0mfp\u001b[0m\u001b[1;33m.\u001b[0m\u001b[0mreadlines\u001b[0m\u001b[1;33m(\u001b[0m\u001b[1;33m)\u001b[0m\u001b[1;33m\u001b[0m\u001b[1;33m\u001b[0m\u001b[0m\n\u001b[0;32m      9\u001b[0m \u001b[1;32mif\u001b[0m\u001b[1;33m(\u001b[0m\u001b[0mint\u001b[0m\u001b[1;33m(\u001b[0m\u001b[0minput\u001b[0m\u001b[1;33m(\u001b[0m\u001b[1;34mf'您选择的文本第一行是:{all_words[0]}，确定是否正确（输入1表示正确，输入0表示错误）：'\u001b[0m\u001b[1;33m)\u001b[0m\u001b[1;33m)\u001b[0m\u001b[1;33m)\u001b[0m\u001b[1;33m:\u001b[0m\u001b[1;33m\u001b[0m\u001b[1;33m\u001b[0m\u001b[0m\n",
      "\u001b[1;31mFileNotFoundError\u001b[0m: [Errno 2] No such file or directory: 'source\\\\paper.txt'"
     ]
    }
   ],
   "source": [
    "from wordcloud import WordCloud\n",
    "from jieba import lcut\n",
    "from time import sleep,strftime,localtime\n",
    "\n",
    "def getTime():\n",
    "    return (strftime('%Y_%m_%d_%H_%M_%S',localtime()))\n",
    "with open(r'source\\paper.txt',mode=\"r\",encoding=\"utf-8\") as fp:\n",
    "    all_words = fp.readlines()\n",
    "if(int(input(f'您选择的文本第一行是:{all_words[0]}，确定是否正确（输入1表示正确，输入0表示错误）：'))):\n",
    "    w1 = WordCloud(font_path=r'C:\\Windows\\Fonts\\STXINWEI.TTF', background_color='white')\n",
    "    w1.generate(' '.join(lcut(''.join(all_words))))\n",
    "    w1.to_file(rf'source\\pictures\\{getTime()}.png')\n",
    "    print(r'可以在\\source\\pictures下查看生成的词云图')\n",
    "else:\n",
    "    print('您选择错误，请关闭重新启动')\n",
    "sleep(10)\n",
    "exit(0)"
   ]
  },
  {
   "cell_type": "markdown",
   "id": "579bf0c8",
   "metadata": {},
   "source": [
    "## 自定义图片"
   ]
  },
  {
   "cell_type": "code",
   "execution_count": 1,
   "id": "03185d1e",
   "metadata": {},
   "outputs": [
    {
     "name": "stderr",
     "output_type": "stream",
     "text": [
      "Building prefix dict from the default dictionary ...\n",
      "Loading model from cache C:\\Users\\DELL\\AppData\\Local\\Temp\\jieba.cache\n",
      "Loading model cost 0.666 seconds.\n",
      "Prefix dict has been built successfully.\n"
     ]
    },
    {
     "data": {
      "text/plain": [
       "<wordcloud.wordcloud.WordCloud at 0x274e8d071c0>"
      ]
     },
     "execution_count": 1,
     "metadata": {},
     "output_type": "execute_result"
    }
   ],
   "source": [
    "import wordcloud\n",
    "import jieba\n",
    "# from scipy.misc import imread\n",
    "from imageio import imread\n",
    "\n",
    "s = '一粒尘可填海，一根草斩尽日月星辰，弹指间天翻地覆。群雄并起，万族林立，诸圣争霸，乱天动地；问苍茫大地，谁主沉浮？一个少年从大荒中走出，一切从这里开始。'\n",
    "mask = imread(r\"C:\\Users\\DELL\\Desktop\\pictures\\csdn\\cxk_4.png\")\n",
    "w1 = wordcloud.WordCloud(mask=mask,font_path=r'C:\\Windows\\Fonts\\STXINWEI.TTF',background_color='white')\n",
    "w1.generate(' '.join(jieba.lcut(s)))\n",
    "w1.to_file('自定义图片.png')"
   ]
  }
 ],
 "metadata": {
  "kernelspec": {
   "display_name": "Python 3 (ipykernel)",
   "language": "python",
   "name": "python3"
  },
  "language_info": {
   "codemirror_mode": {
    "name": "ipython",
    "version": 3
   },
   "file_extension": ".py",
   "mimetype": "text/x-python",
   "name": "python",
   "nbconvert_exporter": "python",
   "pygments_lexer": "ipython3",
   "version": "3.9.0"
  }
 },
 "nbformat": 4,
 "nbformat_minor": 5
}
