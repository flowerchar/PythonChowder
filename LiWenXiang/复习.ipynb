{
 "cells": [
  {
   "cell_type": "code",
   "execution_count": 1,
   "id": "bcbd16a3",
   "metadata": {},
   "outputs": [
    {
     "name": "stdout",
     "output_type": "stream",
     "text": [
      "a的数值是 10\n",
      "a的数值是10\n"
     ]
    }
   ],
   "source": [
    "'''\n",
    "内嵌格式化字符串，为什么要有内嵌字符串？\n",
    "'''\n",
    "a = 10  \n",
    "print(\"a的数值是\", a)   \n",
    "print(f\"a的数值是{a}\")"
   ]
  },
  {
   "cell_type": "code",
   "execution_count": null,
   "id": "cbfea6d0",
   "metadata": {},
   "outputs": [],
   "source": []
  },
  {
   "cell_type": "markdown",
   "id": "62456478",
   "metadata": {},
   "source": [
    "## 数据类型之列表\n",
    "list.append()#在最后追加一个元素<br/>\n",
    "list.extend(????) #连接两个列表 <br/>\n",
    "list1 = [1,2,3,4] <br/>\n",
    "list2 = [5,6,7,8]  <br/>\n",
    "list1.extend(list2)  <br/>\n",
    "list1 = [1,2,3,4,5,6,7,8] <br/>\n",
    "list.insert(index, value) #->在指定位置插入一个元素<br/>\n",
    "list.remove(value) #删除一个值<br/>\n",
    "list.pop()#默认弹出最后一个元素<br/>\n",
    "list.clear()#清除列表<br/>\n",
    "list.index(value, index)#获取某一值的位置<br/>\n",
    "list.count(value)#值在列表中出现的次数<br/>\n",
    "list.reverse()#反转列表<br/>\n",
    "list.sort()#**排序，会改变列表本身顺序，而内建函数sorted()则不会改变列表本身<br/>\n",
    "list.copy()#返回一个文本，而不是本身<br/>\n",
    "list1 = [1,2,3,4]<br/>\n",
    "list2 = list1.copy()<br/>\n",
    "list2.append(5)<br/>\n",
    "print(list2)<br/>\n",
    "[1,2,3,4,5]<br/>\n",
    "print(list1)<br/>\n",
    "[1,2,3,4]<br/>"
   ]
  },
  {
   "cell_type": "code",
   "execution_count": 2,
   "id": "781aaefe",
   "metadata": {},
   "outputs": [
    {
     "name": "stdout",
     "output_type": "stream",
     "text": [
      "nameList的长度是3\n",
      "增加一个元素后变成['乌克兰', '俄罗斯', '美国', '中国']\n",
      "删除第二个元素后变成['乌克兰', '美国', '中国']\n",
      "列表第一个元素是乌克兰\n"
     ]
    }
   ],
   "source": [
    "nameList = [\"乌克兰\", \"俄罗斯\", \"美国\"]\n",
    "# 列表长度\n",
    "print(f\"nameList的长度是{len(nameList)}\")\n",
    "# 增加元素\n",
    "nameList.append(\"中国\")\n",
    "print(f\"增加一个元素后变成{nameList}\")\n",
    "# 删除元素\n",
    "del nameList[1]\n",
    "print(f\"删除第二个元素后变成{nameList}\")\n",
    "# 查询元素\n",
    "print(f\"列表第一个元素是{nameList}\")"
   ]
  },
  {
   "cell_type": "markdown",
   "id": "ba4d6c63",
   "metadata": {},
   "source": [
    "## 数据类型之集合"
   ]
  },
  {
   "cell_type": "code",
   "execution_count": 3,
   "id": "4e7f3d5a",
   "metadata": {},
   "outputs": [
    {
     "name": "stdout",
     "output_type": "stream",
     "text": [
      "增加一个元素{'拼多多'}\n",
      "增加很多元素{'阿里巴巴', '京东', '腾讯', '拼多多'}\n",
      "删除元素拼多多{'阿里巴巴', '京东', '腾讯'}\n"
     ]
    },
    {
     "data": {
      "text/plain": [
       "'\\nadd只能增加一个元素， update可以接受一个列表从而接收多个参数\\ndiscard只能删除一个元素\\n'"
      ]
     },
     "execution_count": 3,
     "metadata": {},
     "output_type": "execute_result"
    }
   ],
   "source": [
    "# 集合是没有重复元素的结构\n",
    "companySet = {\"腾讯\", \"阿里巴巴\", \"字节跳动\"}\n",
    "# 定义一个空的集合\n",
    "emptySet = set()\n",
    "# 增加一个元素\n",
    "emptySet.add(\"拼多多\")\n",
    "print(f\"增加一个元素{emptySet}\")\n",
    "# 增加很多元素\n",
    "emptySet.update([\"腾讯\", \"阿里巴巴\", \"京东\", \"拼多多\"])\n",
    "print(f\"增加很多元素{emptySet}\")\n",
    "# 删除元素\n",
    "emptySet.discard(\"拼多多\")\n",
    "print(f\"删除元素拼多多{emptySet}\")\n",
    "'''\n",
    "add只能增加一个元素， update可以接受一个列表从而接收多个参数\n",
    "discard只能删除一个元素\n",
    "'''"
   ]
  },
  {
   "cell_type": "markdown",
   "id": "d65a04a8",
   "metadata": {},
   "source": [
    "## 数据类型之字典"
   ]
  },
  {
   "cell_type": "code",
   "execution_count": 4,
   "id": "51537c97",
   "metadata": {},
   "outputs": [
    {
     "name": "stdout",
     "output_type": "stream",
     "text": [
      "增减元素{'001': '南京', '002': '苏州', '003': '无锡', '004': '盐城'}\n",
      "删除第一个元素{'002': '苏州', '003': '无锡', '004': '盐城'}\n",
      "查询第二个key-value对 苏州\n"
     ]
    }
   ],
   "source": [
    "'''\n",
    "字典是一个键值对的结构，键为字符串，值可以为多种类型，甚至可以是其他结构\n",
    "'''\n",
    "areaDict = {'001':\"南京\", \"002\":\"苏州\", \"003\":\"无锡\"}\n",
    "# 增减元素, 不像其他一样调用函数\n",
    "areaDict['004'] = \"盐城\"\n",
    "print(f\"增减元素{areaDict}\")\n",
    "# 删除元素\n",
    "del areaDict[\"001\"]\n",
    "print(f\"删除第一个元素{areaDict}\")\n",
    "# 查询第二个key-value对\n",
    "print(f'查询第二个key-value对 {areaDict[\"002\"]}')"
   ]
  },
  {
   "cell_type": "markdown",
   "id": "daef4546",
   "metadata": {},
   "source": [
    "## 清洗股票数据"
   ]
  },
  {
   "cell_type": "code",
   "execution_count": 5,
   "id": "6e638acf",
   "metadata": {},
   "outputs": [
    {
     "name": "stdout",
     "output_type": "stream",
     "text": [
      "{'Google': 'GOOG', 'Amazon': 'AMZN', 'FACEBOOK': 'FB', 'APPLE': 'APPL', 'Alibaba': 'BABA', 'Tencent': '0700'}\n",
      "当前公司Google, 股票代码为GOOG\n",
      "当前公司Amazon, 股票代码为AMZN\n",
      "当前公司FACEBOOK, 股票代码为FB\n",
      "当前公司Alibaba, 股票代码为BABA\n",
      "当前公司Tencent, 股票代码为0700\n",
      "====================\n",
      "当前公司APPLE, 股票代码为APPL\n"
     ]
    }
   ],
   "source": [
    "stockDict = {\"Google\":\"GOOg\", \"Amazon\":\"aMZN\", \"FACEBOOK\":\"FB\", \n",
    "            \"APPLE\":\"appL\", \"Alibaba\":\"BABA\", \"Tencent\":\"0700\"}\n",
    "# 遍历这个字典的键值对,这段代码作用？\n",
    "for key, value in stockDict.items():\n",
    "    upperValue = value.upper()\n",
    "    stockDict[key] = upperValue\n",
    "print(stockDict)\n",
    "\n",
    "for key, value in stockDict.items():\n",
    "    if key == \"APPLE\":\n",
    "        continue\n",
    "    print(f\"当前公司{key}, 股票代码为{value}\")\n",
    "print(f\"{10*'=='}\")    \n",
    "for key, value in stockDict.items():\n",
    "    if key != \"APPLE\":\n",
    "        continue\n",
    "    print(f\"当前公司{key}, 股票代码为{value}\")"
   ]
  },
  {
   "cell_type": "markdown",
   "id": "1e050b48",
   "metadata": {},
   "source": [
    "## 列表推导式\n",
    "列表推导式非常的pythonic，非常的方便和强大，除了列表推导式外，也有元祖推导式，字典推导式，和集合推导式，但是集合推导式得到的是一个生成器generator。</br>\n",
    "列表推导式可以非常简洁的创建一个列表，常见的用法是把某种操作应用于序列或可迭代对象的每个元素上，然后使用其结果来创建列表。通常我们创建一个列表的方法是：\n",
    "vec = [-4, -2, 0, 2, 4]</br>\n",
    "create a new list with the values doubleed</br>\n",
    "x*2 for x in vec]</br>\n",
    "[-8, -4, 0, 4, 8]</br>\n",
    "x for x in vec if x>=0]</br>\n",
    "[0, 2, 4]</br>\n",
    "abs(x) for x in vec]</br>\n",
    "[4, 2, 0, 2, 4]</br>\n",
    "call a method on each element</br>\n",
    "fresh fruit = [' banana', ' loganberry', 'passion fruit ']</br>\n",
    "weapon.strip() for weapon in freshfruit]</br>\n",
    "['banana', 'loganberry', 'passion fruit']</br>\n",
    "create a list of 2-tuples like (number, square)</br>\n",
    "x, x**2) for x in range(6)]</br>\n",
    "[(0,0), (1,1), (2, 4), (3, 9), (4, 16), (5, 25)]</br>\n",
    "the tuple must be parenthesized, otherwise an error is raised</br>\n",
    "元祖必须要加上括号才行，不然就会报错</br>\n",
    "flatten a list using a listcomp with two 'for'</br>\n",
    "将一个嵌套的列表合为一个列表需要用到多个for</br>\n",
    "vec = [[1,2,3], [4,5,6], [7,8,9]]</br>\n",
    "num for elem in ver for num in elem]</br>\n",
    "[1,2,3,4,5,6,7,8,9]</br>\n",
    "#列表推导式可以使用复杂的表达式和嵌套函数</br>\n",
    "from math import pi</br>\n",
    "[str(round(pi, i)) for I in range(1,6)]</br>\n",
    "['3.1', '3.14', '3.142', '3.1416', '3.14159']</br>\n",
    "#将参数pi和i传入到函数round中，第一个参数为值，第二个参数为小数点后面的位数，</br>\n",
    "#随着循环的迭代，逐渐增加小数点后面的位数，然后将浮点型数据转化成字符串类型。</br>"
   ]
  },
  {
   "cell_type": "code",
   "execution_count": 6,
   "id": "75bf1f97",
   "metadata": {},
   "outputs": [
    {
     "name": "stdout",
     "output_type": "stream",
     "text": [
      "[0, 1, 4, 9, 16, 25, 36, 49, 64, 81]\n",
      "[0, 1, 4, 9, 16, 25, 36, 49, 64, 81]\n",
      "[(1, 3), (1, 4), (2, 3), (2, 1), (2, 4), (3, 1), (3, 4)]\n",
      "[(1, 3), (1, 4), (2, 3), (2, 1), (2, 4), (3, 1), (3, 4)]\n"
     ]
    }
   ],
   "source": [
    "# 一个列表存储[1, 9]的平方\n",
    "# 常规做法\n",
    "res = list()\n",
    "for I in range(10):\n",
    "    res.append(I**2)\n",
    "print(res)\n",
    "# 列表推导式写法\n",
    "res_1 = [i**2 for i in range(10)]\n",
    "print(res_1)\n",
    "\n",
    "combs = []\n",
    "for x in [1,2,3]:\n",
    "    for y in [3,1,4]:\n",
    "        if x != y:\n",
    "            combs.append((x, y))\n",
    "print(combs)\n",
    "print([(x, y) for x in [1,2,3] for y in [3,1,4] if x != y])"
   ]
  },
  {
   "cell_type": "code",
   "execution_count": 7,
   "id": "d6b8d24e",
   "metadata": {},
   "outputs": [
    {
     "name": "stdout",
     "output_type": "stream",
     "text": [
      "列表化：[('张三', 19), ('李四', 20), ('王二', 21)]\n",
      "字典化：{'张三': 19, '李四': 20, '王二': 21}\n"
     ]
    }
   ],
   "source": [
    "# zip函数：同时遍历多个列表\n",
    "names = [\"张三\", \"李四\", \"王二\"]\n",
    "ages = [19, 20, 21]\n",
    "print(f'列表化：{list(zip(names, ages))}')\n",
    "print(f\"字典化：{dict(zip(names, ages))}\")"
   ]
  },
  {
   "cell_type": "code",
   "execution_count": 8,
   "id": "a6a422bf",
   "metadata": {},
   "outputs": [
    {
     "name": "stdout",
     "output_type": "stream",
     "text": [
      "[('ZhangSan', 'LiSi', 'WangWu', 'ZhaoLiu'), ('1', '2', '3', '4')]\n"
     ]
    }
   ],
   "source": [
    "# [('ZhangSan', 'LiSi', 'WangWu', 'ZhaoLiu'), ('1', '2', '3', '4')]怎么实现\n",
    "a = [[\"ZhangSan\", \"1\"], [\"LiSi\", \"2\"], [\"WangWu\", \"3\"], [\"ZhaoLiu\", \"4\"]]\n",
    "print(list(zip(*a)))"
   ]
  },
  {
   "cell_type": "markdown",
   "id": "c1c62d6f",
   "metadata": {},
   "source": [
    "## try--catch--finally"
   ]
  },
  {
   "cell_type": "code",
   "execution_count": 9,
   "id": "a4ec8879",
   "metadata": {},
   "outputs": [
    {
     "name": "stdout",
     "output_type": "stream",
     "text": [
      "before\n",
      "except执行\n",
      "都会执行\n"
     ]
    }
   ],
   "source": [
    "'''\n",
    "    try: 包裹估计会出错的部分\n",
    "    except: 捕捉估计会出错的部分\n",
    "    finally: 无论如何都会执行\n",
    "    1.当try没有报错时，那么except不会运行\n",
    "    2.当try有报错时，报错以下部分不会执行，except会执行\n",
    "    3.finally都会执行\n",
    "'''\n",
    "try:\n",
    "    print(\"before\")\n",
    "    print(3/0)\n",
    "    print(\"after\")\n",
    "except ZeroDivisionError:\n",
    "    print(\"except执行\")\n",
    "finally:\n",
    "    print(\"都会执行\")"
   ]
  }
 ],
 "metadata": {
  "kernelspec": {
   "display_name": "Python 3 (ipykernel)",
   "language": "python",
   "name": "python3"
  },
  "language_info": {
   "codemirror_mode": {
    "name": "ipython",
    "version": 3
   },
   "file_extension": ".py",
   "mimetype": "text/x-python",
   "name": "python",
   "nbconvert_exporter": "python",
   "pygments_lexer": "ipython3",
   "version": "3.9.0"
  }
 },
 "nbformat": 4,
 "nbformat_minor": 5
}
