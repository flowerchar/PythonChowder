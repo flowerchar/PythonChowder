{
 "cells": [
  {
   "cell_type": "markdown",
   "id": "9a5201b3",
   "metadata": {},
   "source": [
    "### 向文本文件写入内容"
   ]
  },
  {
   "cell_type": "code",
   "execution_count": 1,
   "id": "6fcba474",
   "metadata": {},
   "outputs": [],
   "source": [
    "s = 'Hello World\\n文本文件的读取方法\\n文本文件的写入方法\\n'\n",
    "f = open('sample.txt', 'w+')\n",
    "f.write(s)\n",
    "f.close()"
   ]
  },
  {
   "cell_type": "markdown",
   "id": "d71110bf",
   "metadata": {},
   "source": [
    "### 读取并显示文本文件所有的行"
   ]
  },
  {
   "cell_type": "code",
   "execution_count": 3,
   "id": "f39535a3",
   "metadata": {},
   "outputs": [
    {
     "name": "stdout",
     "output_type": "stream",
     "text": [
      "Hello World\n",
      "\n",
      "文本文件的读取方法\n",
      "\n",
      "文本文件的写入方法\n",
      "\n",
      "True\n"
     ]
    }
   ],
   "source": [
    "with open('sample.txt') as fp:\n",
    "    while True:\n",
    "        line = fp.readline()\n",
    "        if not line:\n",
    "            print(line=='')\n",
    "            break\n",
    "        print(line)"
   ]
  },
  {
   "cell_type": "markdown",
   "id": "ff5544cc",
   "metadata": {},
   "source": [
    "## 计算文本文件最长行的长度和内容"
   ]
  },
  {
   "cell_type": "code",
   "execution_count": 20,
   "id": "de452833",
   "metadata": {},
   "outputs": [
    {
     "name": "stdout",
     "output_type": "stream",
     "text": [
      "[12, 'Hello World\\n']\n"
     ]
    }
   ],
   "source": [
    "\n",
    "with open('sample.txt') as fp:\n",
    "    result = [0,'']\n",
    "    for line in fp:\n",
    "        if len(line)>result[0]:\n",
    "            result = [len(line), line]\n",
    "print(result)"
   ]
  },
  {
   "cell_type": "markdown",
   "id": "8ae85e62",
   "metadata": {},
   "source": [
    "## 文件+词云图"
   ]
  },
  {
   "cell_type": "code",
   "execution_count": 4,
   "id": "ce279b63",
   "metadata": {},
   "outputs": [
    {
     "name": "stderr",
     "output_type": "stream",
     "text": [
      "Building prefix dict from the default dictionary ...\n",
      "Loading model from cache C:\\Users\\DELL\\AppData\\Local\\Temp\\jieba.cache\n"
     ]
    },
    {
     "name": "stdout",
     "output_type": "stream",
     "text": [
      "夜已深，漆黑一片，景物不可见。但山中并不宁静，猛兽咆哮，震动山河，万木摇颤，乱叶簌簌坠落。\n",
      "\n",
      "    群山万壑间，洪荒猛兽横行，太古遗种出没，各种可怕的声音在黑暗中此起彼伏，直欲裂开这天地。\n",
      "\n",
      "    山脉中，远远望去有一团柔和的光隐现，在这黑暗无尽的夜幕下与万山间犹如一点烛火在摇曳，随时会熄灭。\n",
      "\n",
      "    渐渐接近，可以看清那里有半截巨大的枯木，树干直径足有十几米，通体焦黑。除却半截主干外，它只剩下了一条柔弱的枝条，但却在散发着生机，枝叶晶莹如绿玉刻成，点点柔和的光扩散，将一个村子笼罩。\n",
      "\n",
      "    确切的说，这是一株雷击木，在很多年前曾经遭遇过通天的闪电，老柳树巨大的树冠与旺盛的生机被摧毁了。如今地表上只剩下八九米高的一段树桩，粗的惊人，而那仅有的一条柳枝如绿霞神链般，光晕弥漫，笼罩与守护住了整个村子，令这片栖居地朦朦胧胧，犹若一片仙乡，在这大荒中显得很神秘。\n",
      "\n",
      "    村中各户都是石屋，夜深人静，这里祥和而安谧，像是与外界的黑暗还有兽吼隔绝了。\n",
      "\n",
      "    “呜……”\n",
      "\n",
      "    一阵狂风吹过，一片巨大的乌云横空，遮住了整片夜空，挡住了那仅有的一点星华，山脉中更加黑暗了。\n",
      "\n",
      "    一声凶戾的禽鸣自高天传来，穿金裂石，竟源自那片乌云，细看它居然是一只庞大到不可思议的巨鸟，遮天蔽月，长也不知多少里。\n",
      "\n",
      "    路过石村，它俯视下方，两只眼睛宛若两轮血月般，凶气滔天，盯着老柳木看了片刻，最终飞向了山脉最深处。\n",
      "\n",
      "    平静了很长一段时间，直到后半夜，大地颤动了起来，一条模糊的身影从远方走来，竟与群山齐高！\n",
      "\n",
      "    莫名气息散发，群山万壑死一般的寂静，凶禽猛兽皆蛰伏，不敢发出一点声音。\n",
      "\n",
      "    近了，这是一个拥有人形的生物，直立行走，庞大的惊人，身高比肩山岳，浑身没有毛发，通体密布着金色的鳞片，熠熠生辉。面部很平，只有一只竖眼，开合间像是一道金色的闪电划过，犀利慑人。整体血气如海，宛如一尊神魔！\n",
      "\n",
      "    它路过此地，看了一眼老柳木，稍作停留后，似乎急于赶路，最终快速远去，许多山峰被其脚步震的轰鸣，山地剧烈颤抖。\n",
      "\n",
      "    黎明，一条十米长、水桶粗、银光灿灿的蜈蚣在山中蜿蜒而行，像是白银浇铸而成，每一节都锃亮而狰狞，划过山石时铿锵作响，火星飞溅。但最终它却避过了石村，没有侵入，所过之处黑雾翻腾，万兽避退。\n",
      "\n",
      "    一根散发着莹莹绿霞的柔弱柳条在风中轻轻摇曳……\n"
     ]
    },
    {
     "name": "stderr",
     "output_type": "stream",
     "text": [
      "Loading model cost 0.658 seconds.\n",
      "Prefix dict has been built successfully.\n"
     ]
    },
    {
     "name": "stdout",
     "output_type": "stream",
     "text": [
      "******************\n",
      "88888888888888888888888\n",
      "夜 已 深 ， 漆黑一片 ， 景物 不 可见 。 但 山中 并 不 宁静 ， 猛兽 咆哮 ， 震动 山河 ， 万木摇 颤 ， 乱叶 簌簌 坠落 。 \n",
      " \n",
      "         群山 万壑间 ， 洪荒 猛兽 横行 ， 太古 遗种 出没 ， 各种 可怕 声音 黑暗 中 此起彼伏 ， 直欲 裂开 这 天地 。 \n",
      " \n",
      "         山脉 中 ， 远远望去 有 一团 柔和 光 隐现 ， 这 黑暗 无尽 夜幕 下 与 万 山间 犹如 一点 烛火 摇曳 ， 随时 会 熄灭 。 \n",
      " \n",
      "         渐渐 接近 ， 可以 看清 那里 有 半截 巨大 枯木 ， 树干 直径 足有 十几米 ， 通体 焦黑 。 除却 半截 主干 外 ， 它 只 剩下 一条 柔弱 枝条 ， 但 却 散发 着 生机 ， 枝叶 晶莹 如绿玉 刻成 ， 点点 柔和 光 扩散 ， 将 一个 村子 笼罩 。 \n",
      " \n",
      "         确切的说 ， 这是 一株 雷击 木 ， 很多年 前 曾经 遭遇 过 通天 闪电 ， 老 柳树 巨大 树冠 与 旺盛 生机 被 摧毁 。 如今 地表 上 只 剩下 八九米 高 一段 树桩 ， 粗 惊人 ， 而 那 仅 有 一条 柳枝 如绿霞 神 链般 ， 光晕 弥漫 ， 笼罩 与 守护 住 整个 村子 ， 令 这片 栖居 地 朦朦胧胧 ， 犹若 一片 仙乡 ， 这 大荒 中 显得 很 神秘 。 \n",
      " \n",
      "         村中 各户 都 是 石屋 ， 夜深人静 ， 这里 祥和 而 安谧 ， 像是 与 外界 黑暗 还有 兽 吼 隔绝 。 \n",
      " \n",
      "         “ 呜 … … ” \n",
      " \n",
      "         一阵 狂风 吹过 ， 一片 巨大 乌云 横空 ， 遮住 整片 夜空 ， 挡住 那 仅 有 一点 星华 ， 山脉 中 更加 黑暗 。 \n",
      " \n",
      "         一声 凶戾 禽鸣 自高天 传来 ， 穿金裂 石 ， 竟 源自 那片 乌云 ， 细看 它 居然 是 一只 庞大 到 不可思议 巨鸟 ， 遮天 蔽 月 ， 长 也 不知 多少 里 。 \n",
      " \n",
      "         路过 石村 ， 它 俯视 下方 ， 两只 眼睛 宛若 两轮 血月般 ， 凶气 滔天 ， 盯 着 老 柳木 看 片刻 ， 最终 飞向 山脉 最深处 。 \n",
      " \n",
      "         平静 很长 一段时间 ， 直到 后半夜 ， 大地 颤动 起来 ， 一条 模糊 身影 从 远方 走来 ， 竟 与 群山 齐高 ！ \n",
      " \n",
      "         莫名 气息 散发 ， 群山 万壑 死 一般 寂静 ， 凶禽 猛兽 皆 蛰伏 ， 不敢 发出 一点 声音 。 \n",
      " \n",
      "         近 ， 这是 一个 拥有 人形 生物 ， 直立 行走 ， 庞大 惊人 ， 身高 比肩 山岳 ， 浑身 没有 毛发 ， 通体 密布 着 金色 鳞片 ， 熠熠生辉 。 面部 很平 ， 只有 一只 竖眼 ， 开合 间 像是 一道 金色 闪电 划过 ， 犀利 慑 人 。 整体 血气 如海 ， 宛如 一尊 神魔 ！ \n",
      " \n",
      "         它 路过 此地 ， 看 一眼 老 柳木 ， 稍作 停留 后 ， 似乎 急于 赶路 ， 最终 快速 远去 ， 许多 山峰 被 其 脚步 震 轰鸣 ， 山地 剧烈 颤抖 。 \n",
      " \n",
      "         黎明 ， 一条 十米 长 、 水桶 粗 、 银 光灿灿 蜈蚣 山中 蜿蜒 而行 ， 像是 白银 浇铸 而成 ， 每 一节 都 锃亮 而 狰狞 ， 划过 山石 时 铿锵 作响 ， 火星 飞溅 。 但 最终 它 却 避过 石村 ， 没有 侵入 ， 所过 之处 黑雾 翻腾 ， 万兽 避退 。 \n",
      " \n",
      "         一根 散发 着 莹莹 绿霞 柔弱 柳条 风中 轻轻 摇曳 … …\n"
     ]
    },
    {
     "data": {
      "text/plain": [
       "<wordcloud.wordcloud.WordCloud at 0x1f3df58eca0>"
      ]
     },
     "execution_count": 4,
     "metadata": {},
     "output_type": "execute_result"
    }
   ],
   "source": [
    "import jieba\n",
    "import wordcloud\n",
    "with open(r'C:\\Users\\DELL\\PycharmProjects\\StageTwo\\virtual_environment\\2021_10_AI\\Scripts\\LiWenXiang\\完美世界序章.txt', 'r', encoding='UTF-8') as fp:\n",
    "   s = ''.join(fp.readlines())\n",
    "   print(s)\n",
    "   s1 = jieba.lcut(s)\n",
    "   print('******************')\n",
    "   while '的' in s1 :\n",
    "      s1.remove('的')\n",
    "   while '了' in s1 :\n",
    "      s1.remove('了')\n",
    "   while '在' in s1 :\n",
    "      s1.remove('在')\n",
    "   print('88888888888888888888888')\n",
    "   s2 = ' '.join(s1)\n",
    "   print(s2)\n",
    "c1 = wordcloud.WordCloud(width=800,height=600,font_path=r'C:\\Windows\\Fonts\\STXINWEI.TTF')\n",
    "c1.generate(s2)\n",
    "c1.to_file(\"sss.png\")"
   ]
  }
 ],
 "metadata": {
  "kernelspec": {
   "display_name": "Python 3 (ipykernel)",
   "language": "python",
   "name": "python3"
  },
  "language_info": {
   "codemirror_mode": {
    "name": "ipython",
    "version": 3
   },
   "file_extension": ".py",
   "mimetype": "text/x-python",
   "name": "python",
   "nbconvert_exporter": "python",
   "pygments_lexer": "ipython3",
   "version": "3.9.0"
  }
 },
 "nbformat": 4,
 "nbformat_minor": 5
}
